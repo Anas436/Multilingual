{
  "cells": [
    {
      "cell_type": "markdown",
      "id": "9a4c4918",
      "metadata": {
        "id": "9a4c4918"
      },
      "source": [
        "# ICPR 2024 Competition on Multilingual Claim-Span Identification"
      ]
    },
    {
      "cell_type": "markdown",
      "id": "0492aa27",
      "metadata": {
        "id": "0492aa27"
      },
      "source": [
        "## Installing Dependencies"
      ]
    },
    {
      "cell_type": "code",
      "execution_count": null,
      "id": "TY2cSrirsZsN",
      "metadata": {
        "id": "TY2cSrirsZsN",
        "colab": {
          "base_uri": "https://localhost:8080/"
        },
        "outputId": "82e15449-d538-45e5-e835-1dcd5c621c6f"
      },
      "outputs": [
        {
          "output_type": "stream",
          "name": "stdout",
          "text": [
            "Drive already mounted at /content/drive; to attempt to forcibly remount, call drive.mount(\"/content/drive\", force_remount=True).\n"
          ]
        }
      ],
      "source": [
        "from google.colab import drive\n",
        "drive.mount('/content/drive')"
      ]
    },
    {
      "cell_type": "code",
      "execution_count": null,
      "id": "f94df0e4",
      "metadata": {
        "id": "f94df0e4"
      },
      "outputs": [],
      "source": [
        "#!pip install --upgrade scikit-learn\n",
        "#!pip install --upgrade imbalanced-learn"
      ]
    },
    {
      "cell_type": "markdown",
      "id": "e08f6d59",
      "metadata": {
        "id": "e08f6d59"
      },
      "source": [
        "### Importing Libraries"
      ]
    },
    {
      "cell_type": "code",
      "execution_count": null,
      "id": "c1e738e9",
      "metadata": {
        "id": "c1e738e9"
      },
      "outputs": [],
      "source": [
        "import pandas as pd\n",
        "import numpy as np\n",
        "import re\n",
        "import matplotlib.pyplot as plt\n",
        "%matplotlib inline\n",
        "import seaborn as sns\n",
        "from sklearn.feature_extraction.text import CountVectorizer\n",
        "from sklearn.feature_extraction.text import TfidfVectorizer\n",
        "from sklearn.model_selection import train_test_split\n",
        "from sklearn.model_selection import cross_val_score\n",
        "from sklearn.metrics import accuracy_score, f1_score, confusion_matrix, classification_report\n",
        "from sklearn.model_selection import GridSearchCV"
      ]
    },
    {
      "cell_type": "markdown",
      "id": "d46bf674",
      "metadata": {
        "id": "d46bf674"
      },
      "source": [
        "### Loading Datasets"
      ]
    },
    {
      "cell_type": "code",
      "execution_count": null,
      "id": "2f2429d5",
      "metadata": {
        "id": "2f2429d5"
      },
      "outputs": [],
      "source": [
        "# Training English and Hindi datasets\n",
        "train_data = pd.read_json(\"/content/drive/MyDrive/Multilingual Datasets/ML Data/train_en_hi_encoded_labels.json\")\n",
        "\n",
        "# Validation English dataset\n",
        "val_data_en = pd.read_json(\"/content/drive/MyDrive/Multilingual Datasets/Clean Data/val_en_encoded_clean.json\")\n",
        "\n",
        "# Validation Hindi dataset\n",
        "val_data_hi = pd.read_json(\"/content/drive/MyDrive/Multilingual Datasets/Clean Data/val_hi_encoded_clean.json\")\n",
        "\n",
        "#Test English dataset\n",
        "test_data_en = pd.read_json(\"/content/drive/MyDrive/Multilingual Datasets/Test Data/Test Data Clean/test_en_clean.json\")\n",
        "\n",
        "#Test Hindi dataset\n",
        "test_data_hi = pd.read_json(\"/content/drive/MyDrive/Multilingual Datasets/Test Data/Test Data Clean/test_hi_clean.json\")"
      ]
    },
    {
      "cell_type": "code",
      "source": [
        "test_data_en.head()"
      ],
      "metadata": {
        "colab": {
          "base_uri": "https://localhost:8080/",
          "height": 206
        },
        "id": "qYZXHs3oLikC",
        "outputId": "83a78495-8c4d-45a0-8191-176d6d2f2e43"
      },
      "id": "qYZXHs3oLikC",
      "execution_count": null,
      "outputs": [
        {
          "output_type": "execute_result",
          "data": {
            "text/plain": [
              "                                         text_tokens\n",
              "0  @u20719141 @u55524931 we have to assume no vac...\n",
              "1  @u41101034 same as my union screaming out for ...\n",
              "2  this is why i laff talked all that shit went a...\n",
              "3  @u21887764 ugh that is tragic i have a cousin ...\n",
              "4  @u40601807 @u69515872 heroes the direction tho..."
            ],
            "text/html": [
              "\n",
              "  <div id=\"df-e1d557a9-2960-48bd-acec-4c4989071915\" class=\"colab-df-container\">\n",
              "    <div>\n",
              "<style scoped>\n",
              "    .dataframe tbody tr th:only-of-type {\n",
              "        vertical-align: middle;\n",
              "    }\n",
              "\n",
              "    .dataframe tbody tr th {\n",
              "        vertical-align: top;\n",
              "    }\n",
              "\n",
              "    .dataframe thead th {\n",
              "        text-align: right;\n",
              "    }\n",
              "</style>\n",
              "<table border=\"1\" class=\"dataframe\">\n",
              "  <thead>\n",
              "    <tr style=\"text-align: right;\">\n",
              "      <th></th>\n",
              "      <th>text_tokens</th>\n",
              "    </tr>\n",
              "  </thead>\n",
              "  <tbody>\n",
              "    <tr>\n",
              "      <th>0</th>\n",
              "      <td>@u20719141 @u55524931 we have to assume no vac...</td>\n",
              "    </tr>\n",
              "    <tr>\n",
              "      <th>1</th>\n",
              "      <td>@u41101034 same as my union screaming out for ...</td>\n",
              "    </tr>\n",
              "    <tr>\n",
              "      <th>2</th>\n",
              "      <td>this is why i laff talked all that shit went a...</td>\n",
              "    </tr>\n",
              "    <tr>\n",
              "      <th>3</th>\n",
              "      <td>@u21887764 ugh that is tragic i have a cousin ...</td>\n",
              "    </tr>\n",
              "    <tr>\n",
              "      <th>4</th>\n",
              "      <td>@u40601807 @u69515872 heroes the direction tho...</td>\n",
              "    </tr>\n",
              "  </tbody>\n",
              "</table>\n",
              "</div>\n",
              "    <div class=\"colab-df-buttons\">\n",
              "\n",
              "  <div class=\"colab-df-container\">\n",
              "    <button class=\"colab-df-convert\" onclick=\"convertToInteractive('df-e1d557a9-2960-48bd-acec-4c4989071915')\"\n",
              "            title=\"Convert this dataframe to an interactive table.\"\n",
              "            style=\"display:none;\">\n",
              "\n",
              "  <svg xmlns=\"http://www.w3.org/2000/svg\" height=\"24px\" viewBox=\"0 -960 960 960\">\n",
              "    <path d=\"M120-120v-720h720v720H120Zm60-500h600v-160H180v160Zm220 220h160v-160H400v160Zm0 220h160v-160H400v160ZM180-400h160v-160H180v160Zm440 0h160v-160H620v160ZM180-180h160v-160H180v160Zm440 0h160v-160H620v160Z\"/>\n",
              "  </svg>\n",
              "    </button>\n",
              "\n",
              "  <style>\n",
              "    .colab-df-container {\n",
              "      display:flex;\n",
              "      gap: 12px;\n",
              "    }\n",
              "\n",
              "    .colab-df-convert {\n",
              "      background-color: #E8F0FE;\n",
              "      border: none;\n",
              "      border-radius: 50%;\n",
              "      cursor: pointer;\n",
              "      display: none;\n",
              "      fill: #1967D2;\n",
              "      height: 32px;\n",
              "      padding: 0 0 0 0;\n",
              "      width: 32px;\n",
              "    }\n",
              "\n",
              "    .colab-df-convert:hover {\n",
              "      background-color: #E2EBFA;\n",
              "      box-shadow: 0px 1px 2px rgba(60, 64, 67, 0.3), 0px 1px 3px 1px rgba(60, 64, 67, 0.15);\n",
              "      fill: #174EA6;\n",
              "    }\n",
              "\n",
              "    .colab-df-buttons div {\n",
              "      margin-bottom: 4px;\n",
              "    }\n",
              "\n",
              "    [theme=dark] .colab-df-convert {\n",
              "      background-color: #3B4455;\n",
              "      fill: #D2E3FC;\n",
              "    }\n",
              "\n",
              "    [theme=dark] .colab-df-convert:hover {\n",
              "      background-color: #434B5C;\n",
              "      box-shadow: 0px 1px 3px 1px rgba(0, 0, 0, 0.15);\n",
              "      filter: drop-shadow(0px 1px 2px rgba(0, 0, 0, 0.3));\n",
              "      fill: #FFFFFF;\n",
              "    }\n",
              "  </style>\n",
              "\n",
              "    <script>\n",
              "      const buttonEl =\n",
              "        document.querySelector('#df-e1d557a9-2960-48bd-acec-4c4989071915 button.colab-df-convert');\n",
              "      buttonEl.style.display =\n",
              "        google.colab.kernel.accessAllowed ? 'block' : 'none';\n",
              "\n",
              "      async function convertToInteractive(key) {\n",
              "        const element = document.querySelector('#df-e1d557a9-2960-48bd-acec-4c4989071915');\n",
              "        const dataTable =\n",
              "          await google.colab.kernel.invokeFunction('convertToInteractive',\n",
              "                                                    [key], {});\n",
              "        if (!dataTable) return;\n",
              "\n",
              "        const docLinkHtml = 'Like what you see? Visit the ' +\n",
              "          '<a target=\"_blank\" href=https://colab.research.google.com/notebooks/data_table.ipynb>data table notebook</a>'\n",
              "          + ' to learn more about interactive tables.';\n",
              "        element.innerHTML = '';\n",
              "        dataTable['output_type'] = 'display_data';\n",
              "        await google.colab.output.renderOutput(dataTable, element);\n",
              "        const docLink = document.createElement('div');\n",
              "        docLink.innerHTML = docLinkHtml;\n",
              "        element.appendChild(docLink);\n",
              "      }\n",
              "    </script>\n",
              "  </div>\n",
              "\n",
              "\n",
              "<div id=\"df-2677b48f-c819-4cf0-a139-b2ddb2dc35e5\">\n",
              "  <button class=\"colab-df-quickchart\" onclick=\"quickchart('df-2677b48f-c819-4cf0-a139-b2ddb2dc35e5')\"\n",
              "            title=\"Suggest charts\"\n",
              "            style=\"display:none;\">\n",
              "\n",
              "<svg xmlns=\"http://www.w3.org/2000/svg\" height=\"24px\"viewBox=\"0 0 24 24\"\n",
              "     width=\"24px\">\n",
              "    <g>\n",
              "        <path d=\"M19 3H5c-1.1 0-2 .9-2 2v14c0 1.1.9 2 2 2h14c1.1 0 2-.9 2-2V5c0-1.1-.9-2-2-2zM9 17H7v-7h2v7zm4 0h-2V7h2v10zm4 0h-2v-4h2v4z\"/>\n",
              "    </g>\n",
              "</svg>\n",
              "  </button>\n",
              "\n",
              "<style>\n",
              "  .colab-df-quickchart {\n",
              "      --bg-color: #E8F0FE;\n",
              "      --fill-color: #1967D2;\n",
              "      --hover-bg-color: #E2EBFA;\n",
              "      --hover-fill-color: #174EA6;\n",
              "      --disabled-fill-color: #AAA;\n",
              "      --disabled-bg-color: #DDD;\n",
              "  }\n",
              "\n",
              "  [theme=dark] .colab-df-quickchart {\n",
              "      --bg-color: #3B4455;\n",
              "      --fill-color: #D2E3FC;\n",
              "      --hover-bg-color: #434B5C;\n",
              "      --hover-fill-color: #FFFFFF;\n",
              "      --disabled-bg-color: #3B4455;\n",
              "      --disabled-fill-color: #666;\n",
              "  }\n",
              "\n",
              "  .colab-df-quickchart {\n",
              "    background-color: var(--bg-color);\n",
              "    border: none;\n",
              "    border-radius: 50%;\n",
              "    cursor: pointer;\n",
              "    display: none;\n",
              "    fill: var(--fill-color);\n",
              "    height: 32px;\n",
              "    padding: 0;\n",
              "    width: 32px;\n",
              "  }\n",
              "\n",
              "  .colab-df-quickchart:hover {\n",
              "    background-color: var(--hover-bg-color);\n",
              "    box-shadow: 0 1px 2px rgba(60, 64, 67, 0.3), 0 1px 3px 1px rgba(60, 64, 67, 0.15);\n",
              "    fill: var(--button-hover-fill-color);\n",
              "  }\n",
              "\n",
              "  .colab-df-quickchart-complete:disabled,\n",
              "  .colab-df-quickchart-complete:disabled:hover {\n",
              "    background-color: var(--disabled-bg-color);\n",
              "    fill: var(--disabled-fill-color);\n",
              "    box-shadow: none;\n",
              "  }\n",
              "\n",
              "  .colab-df-spinner {\n",
              "    border: 2px solid var(--fill-color);\n",
              "    border-color: transparent;\n",
              "    border-bottom-color: var(--fill-color);\n",
              "    animation:\n",
              "      spin 1s steps(1) infinite;\n",
              "  }\n",
              "\n",
              "  @keyframes spin {\n",
              "    0% {\n",
              "      border-color: transparent;\n",
              "      border-bottom-color: var(--fill-color);\n",
              "      border-left-color: var(--fill-color);\n",
              "    }\n",
              "    20% {\n",
              "      border-color: transparent;\n",
              "      border-left-color: var(--fill-color);\n",
              "      border-top-color: var(--fill-color);\n",
              "    }\n",
              "    30% {\n",
              "      border-color: transparent;\n",
              "      border-left-color: var(--fill-color);\n",
              "      border-top-color: var(--fill-color);\n",
              "      border-right-color: var(--fill-color);\n",
              "    }\n",
              "    40% {\n",
              "      border-color: transparent;\n",
              "      border-right-color: var(--fill-color);\n",
              "      border-top-color: var(--fill-color);\n",
              "    }\n",
              "    60% {\n",
              "      border-color: transparent;\n",
              "      border-right-color: var(--fill-color);\n",
              "    }\n",
              "    80% {\n",
              "      border-color: transparent;\n",
              "      border-right-color: var(--fill-color);\n",
              "      border-bottom-color: var(--fill-color);\n",
              "    }\n",
              "    90% {\n",
              "      border-color: transparent;\n",
              "      border-bottom-color: var(--fill-color);\n",
              "    }\n",
              "  }\n",
              "</style>\n",
              "\n",
              "  <script>\n",
              "    async function quickchart(key) {\n",
              "      const quickchartButtonEl =\n",
              "        document.querySelector('#' + key + ' button');\n",
              "      quickchartButtonEl.disabled = true;  // To prevent multiple clicks.\n",
              "      quickchartButtonEl.classList.add('colab-df-spinner');\n",
              "      try {\n",
              "        const charts = await google.colab.kernel.invokeFunction(\n",
              "            'suggestCharts', [key], {});\n",
              "      } catch (error) {\n",
              "        console.error('Error during call to suggestCharts:', error);\n",
              "      }\n",
              "      quickchartButtonEl.classList.remove('colab-df-spinner');\n",
              "      quickchartButtonEl.classList.add('colab-df-quickchart-complete');\n",
              "    }\n",
              "    (() => {\n",
              "      let quickchartButtonEl =\n",
              "        document.querySelector('#df-2677b48f-c819-4cf0-a139-b2ddb2dc35e5 button');\n",
              "      quickchartButtonEl.style.display =\n",
              "        google.colab.kernel.accessAllowed ? 'block' : 'none';\n",
              "    })();\n",
              "  </script>\n",
              "</div>\n",
              "\n",
              "    </div>\n",
              "  </div>\n"
            ],
            "application/vnd.google.colaboratory.intrinsic+json": {
              "type": "dataframe",
              "variable_name": "test_data_en",
              "summary": "{\n  \"name\": \"test_data_en\",\n  \"rows\": 1500,\n  \"fields\": [\n    {\n      \"column\": \"text_tokens\",\n      \"properties\": {\n        \"dtype\": \"string\",\n        \"num_unique_values\": 1500,\n        \"samples\": [\n          \"@u10053305 @u73291637 well the russian angle would write itself i have no reason to believe they wouldnt exploit our covid problem just no proof to my knowledge they are as for anti vaccine nutjobs they all operate under the auspices of antivax derp purveyors with messiah complexes who make money\",\n          \"@u76438521 migraine last 2 days but good now working on a computer all day doesnt help saw my mom today so glad to see her after her terrible reaction to that vaccine so hope my brothers dont take her for the 2nd part im not watching the news far to controlling for my liking\",\n          \"she also mentioned how she read that the vaccine which doesnt even exist yet has technology in it that tracks us and gives all of our medical information to the government i had the weirdest sort of mental whiplash that i didnt even know what to say\"\n        ],\n        \"semantic_type\": \"\",\n        \"description\": \"\"\n      }\n    }\n  ]\n}"
            }
          },
          "metadata": {},
          "execution_count": 5
        }
      ]
    },
    {
      "cell_type": "code",
      "source": [
        "test_data_hi.head()"
      ],
      "metadata": {
        "colab": {
          "base_uri": "https://localhost:8080/",
          "height": 206
        },
        "id": "y9S7DVMELzeI",
        "outputId": "72970072-dce2-4d1e-a120-a10df5a143ee"
      },
      "id": "y9S7DVMELzeI",
      "execution_count": null,
      "outputs": [
        {
          "output_type": "execute_result",
          "data": {
            "text/plain": [
              "                                         text_tokens\n",
              "0  एक नचनिया के अवैध निर्माण पर कार्रवाई से बीजेप...\n",
              "1  अब चुमार में घुसपैठ की कोशिश नाकाम भारत बोला स...\n",
              "2  RT @ U64277340 ड्रग्स भी लेती थीं बीफ भी खाती ...\n",
              "3  अनलॉक 4 में रेलवे चला सकता है 100 नई ट्रेनें इ...\n",
              "4  अभी तक आरोपी लाखों लीटर ऑयल चुरा चुके हैं @ U1..."
            ],
            "text/html": [
              "\n",
              "  <div id=\"df-be3c5da1-ed7f-4049-a2de-112307e576ed\" class=\"colab-df-container\">\n",
              "    <div>\n",
              "<style scoped>\n",
              "    .dataframe tbody tr th:only-of-type {\n",
              "        vertical-align: middle;\n",
              "    }\n",
              "\n",
              "    .dataframe tbody tr th {\n",
              "        vertical-align: top;\n",
              "    }\n",
              "\n",
              "    .dataframe thead th {\n",
              "        text-align: right;\n",
              "    }\n",
              "</style>\n",
              "<table border=\"1\" class=\"dataframe\">\n",
              "  <thead>\n",
              "    <tr style=\"text-align: right;\">\n",
              "      <th></th>\n",
              "      <th>text_tokens</th>\n",
              "    </tr>\n",
              "  </thead>\n",
              "  <tbody>\n",
              "    <tr>\n",
              "      <th>0</th>\n",
              "      <td>एक नचनिया के अवैध निर्माण पर कार्रवाई से बीजेप...</td>\n",
              "    </tr>\n",
              "    <tr>\n",
              "      <th>1</th>\n",
              "      <td>अब चुमार में घुसपैठ की कोशिश नाकाम भारत बोला स...</td>\n",
              "    </tr>\n",
              "    <tr>\n",
              "      <th>2</th>\n",
              "      <td>RT @ U64277340 ड्रग्स भी लेती थीं बीफ भी खाती ...</td>\n",
              "    </tr>\n",
              "    <tr>\n",
              "      <th>3</th>\n",
              "      <td>अनलॉक 4 में रेलवे चला सकता है 100 नई ट्रेनें इ...</td>\n",
              "    </tr>\n",
              "    <tr>\n",
              "      <th>4</th>\n",
              "      <td>अभी तक आरोपी लाखों लीटर ऑयल चुरा चुके हैं @ U1...</td>\n",
              "    </tr>\n",
              "  </tbody>\n",
              "</table>\n",
              "</div>\n",
              "    <div class=\"colab-df-buttons\">\n",
              "\n",
              "  <div class=\"colab-df-container\">\n",
              "    <button class=\"colab-df-convert\" onclick=\"convertToInteractive('df-be3c5da1-ed7f-4049-a2de-112307e576ed')\"\n",
              "            title=\"Convert this dataframe to an interactive table.\"\n",
              "            style=\"display:none;\">\n",
              "\n",
              "  <svg xmlns=\"http://www.w3.org/2000/svg\" height=\"24px\" viewBox=\"0 -960 960 960\">\n",
              "    <path d=\"M120-120v-720h720v720H120Zm60-500h600v-160H180v160Zm220 220h160v-160H400v160Zm0 220h160v-160H400v160ZM180-400h160v-160H180v160Zm440 0h160v-160H620v160ZM180-180h160v-160H180v160Zm440 0h160v-160H620v160Z\"/>\n",
              "  </svg>\n",
              "    </button>\n",
              "\n",
              "  <style>\n",
              "    .colab-df-container {\n",
              "      display:flex;\n",
              "      gap: 12px;\n",
              "    }\n",
              "\n",
              "    .colab-df-convert {\n",
              "      background-color: #E8F0FE;\n",
              "      border: none;\n",
              "      border-radius: 50%;\n",
              "      cursor: pointer;\n",
              "      display: none;\n",
              "      fill: #1967D2;\n",
              "      height: 32px;\n",
              "      padding: 0 0 0 0;\n",
              "      width: 32px;\n",
              "    }\n",
              "\n",
              "    .colab-df-convert:hover {\n",
              "      background-color: #E2EBFA;\n",
              "      box-shadow: 0px 1px 2px rgba(60, 64, 67, 0.3), 0px 1px 3px 1px rgba(60, 64, 67, 0.15);\n",
              "      fill: #174EA6;\n",
              "    }\n",
              "\n",
              "    .colab-df-buttons div {\n",
              "      margin-bottom: 4px;\n",
              "    }\n",
              "\n",
              "    [theme=dark] .colab-df-convert {\n",
              "      background-color: #3B4455;\n",
              "      fill: #D2E3FC;\n",
              "    }\n",
              "\n",
              "    [theme=dark] .colab-df-convert:hover {\n",
              "      background-color: #434B5C;\n",
              "      box-shadow: 0px 1px 3px 1px rgba(0, 0, 0, 0.15);\n",
              "      filter: drop-shadow(0px 1px 2px rgba(0, 0, 0, 0.3));\n",
              "      fill: #FFFFFF;\n",
              "    }\n",
              "  </style>\n",
              "\n",
              "    <script>\n",
              "      const buttonEl =\n",
              "        document.querySelector('#df-be3c5da1-ed7f-4049-a2de-112307e576ed button.colab-df-convert');\n",
              "      buttonEl.style.display =\n",
              "        google.colab.kernel.accessAllowed ? 'block' : 'none';\n",
              "\n",
              "      async function convertToInteractive(key) {\n",
              "        const element = document.querySelector('#df-be3c5da1-ed7f-4049-a2de-112307e576ed');\n",
              "        const dataTable =\n",
              "          await google.colab.kernel.invokeFunction('convertToInteractive',\n",
              "                                                    [key], {});\n",
              "        if (!dataTable) return;\n",
              "\n",
              "        const docLinkHtml = 'Like what you see? Visit the ' +\n",
              "          '<a target=\"_blank\" href=https://colab.research.google.com/notebooks/data_table.ipynb>data table notebook</a>'\n",
              "          + ' to learn more about interactive tables.';\n",
              "        element.innerHTML = '';\n",
              "        dataTable['output_type'] = 'display_data';\n",
              "        await google.colab.output.renderOutput(dataTable, element);\n",
              "        const docLink = document.createElement('div');\n",
              "        docLink.innerHTML = docLinkHtml;\n",
              "        element.appendChild(docLink);\n",
              "      }\n",
              "    </script>\n",
              "  </div>\n",
              "\n",
              "\n",
              "<div id=\"df-348d66cc-3e99-411b-9c8e-a54d1d79b7ee\">\n",
              "  <button class=\"colab-df-quickchart\" onclick=\"quickchart('df-348d66cc-3e99-411b-9c8e-a54d1d79b7ee')\"\n",
              "            title=\"Suggest charts\"\n",
              "            style=\"display:none;\">\n",
              "\n",
              "<svg xmlns=\"http://www.w3.org/2000/svg\" height=\"24px\"viewBox=\"0 0 24 24\"\n",
              "     width=\"24px\">\n",
              "    <g>\n",
              "        <path d=\"M19 3H5c-1.1 0-2 .9-2 2v14c0 1.1.9 2 2 2h14c1.1 0 2-.9 2-2V5c0-1.1-.9-2-2-2zM9 17H7v-7h2v7zm4 0h-2V7h2v10zm4 0h-2v-4h2v4z\"/>\n",
              "    </g>\n",
              "</svg>\n",
              "  </button>\n",
              "\n",
              "<style>\n",
              "  .colab-df-quickchart {\n",
              "      --bg-color: #E8F0FE;\n",
              "      --fill-color: #1967D2;\n",
              "      --hover-bg-color: #E2EBFA;\n",
              "      --hover-fill-color: #174EA6;\n",
              "      --disabled-fill-color: #AAA;\n",
              "      --disabled-bg-color: #DDD;\n",
              "  }\n",
              "\n",
              "  [theme=dark] .colab-df-quickchart {\n",
              "      --bg-color: #3B4455;\n",
              "      --fill-color: #D2E3FC;\n",
              "      --hover-bg-color: #434B5C;\n",
              "      --hover-fill-color: #FFFFFF;\n",
              "      --disabled-bg-color: #3B4455;\n",
              "      --disabled-fill-color: #666;\n",
              "  }\n",
              "\n",
              "  .colab-df-quickchart {\n",
              "    background-color: var(--bg-color);\n",
              "    border: none;\n",
              "    border-radius: 50%;\n",
              "    cursor: pointer;\n",
              "    display: none;\n",
              "    fill: var(--fill-color);\n",
              "    height: 32px;\n",
              "    padding: 0;\n",
              "    width: 32px;\n",
              "  }\n",
              "\n",
              "  .colab-df-quickchart:hover {\n",
              "    background-color: var(--hover-bg-color);\n",
              "    box-shadow: 0 1px 2px rgba(60, 64, 67, 0.3), 0 1px 3px 1px rgba(60, 64, 67, 0.15);\n",
              "    fill: var(--button-hover-fill-color);\n",
              "  }\n",
              "\n",
              "  .colab-df-quickchart-complete:disabled,\n",
              "  .colab-df-quickchart-complete:disabled:hover {\n",
              "    background-color: var(--disabled-bg-color);\n",
              "    fill: var(--disabled-fill-color);\n",
              "    box-shadow: none;\n",
              "  }\n",
              "\n",
              "  .colab-df-spinner {\n",
              "    border: 2px solid var(--fill-color);\n",
              "    border-color: transparent;\n",
              "    border-bottom-color: var(--fill-color);\n",
              "    animation:\n",
              "      spin 1s steps(1) infinite;\n",
              "  }\n",
              "\n",
              "  @keyframes spin {\n",
              "    0% {\n",
              "      border-color: transparent;\n",
              "      border-bottom-color: var(--fill-color);\n",
              "      border-left-color: var(--fill-color);\n",
              "    }\n",
              "    20% {\n",
              "      border-color: transparent;\n",
              "      border-left-color: var(--fill-color);\n",
              "      border-top-color: var(--fill-color);\n",
              "    }\n",
              "    30% {\n",
              "      border-color: transparent;\n",
              "      border-left-color: var(--fill-color);\n",
              "      border-top-color: var(--fill-color);\n",
              "      border-right-color: var(--fill-color);\n",
              "    }\n",
              "    40% {\n",
              "      border-color: transparent;\n",
              "      border-right-color: var(--fill-color);\n",
              "      border-top-color: var(--fill-color);\n",
              "    }\n",
              "    60% {\n",
              "      border-color: transparent;\n",
              "      border-right-color: var(--fill-color);\n",
              "    }\n",
              "    80% {\n",
              "      border-color: transparent;\n",
              "      border-right-color: var(--fill-color);\n",
              "      border-bottom-color: var(--fill-color);\n",
              "    }\n",
              "    90% {\n",
              "      border-color: transparent;\n",
              "      border-bottom-color: var(--fill-color);\n",
              "    }\n",
              "  }\n",
              "</style>\n",
              "\n",
              "  <script>\n",
              "    async function quickchart(key) {\n",
              "      const quickchartButtonEl =\n",
              "        document.querySelector('#' + key + ' button');\n",
              "      quickchartButtonEl.disabled = true;  // To prevent multiple clicks.\n",
              "      quickchartButtonEl.classList.add('colab-df-spinner');\n",
              "      try {\n",
              "        const charts = await google.colab.kernel.invokeFunction(\n",
              "            'suggestCharts', [key], {});\n",
              "      } catch (error) {\n",
              "        console.error('Error during call to suggestCharts:', error);\n",
              "      }\n",
              "      quickchartButtonEl.classList.remove('colab-df-spinner');\n",
              "      quickchartButtonEl.classList.add('colab-df-quickchart-complete');\n",
              "    }\n",
              "    (() => {\n",
              "      let quickchartButtonEl =\n",
              "        document.querySelector('#df-348d66cc-3e99-411b-9c8e-a54d1d79b7ee button');\n",
              "      quickchartButtonEl.style.display =\n",
              "        google.colab.kernel.accessAllowed ? 'block' : 'none';\n",
              "    })();\n",
              "  </script>\n",
              "</div>\n",
              "\n",
              "    </div>\n",
              "  </div>\n"
            ],
            "application/vnd.google.colaboratory.intrinsic+json": {
              "type": "dataframe",
              "variable_name": "test_data_hi",
              "summary": "{\n  \"name\": \"test_data_hi\",\n  \"rows\": 1500,\n  \"fields\": [\n    {\n      \"column\": \"text_tokens\",\n      \"properties\": {\n        \"dtype\": \"string\",\n        \"num_unique_values\": 1495,\n        \"samples\": [\n          \"\\u092f\\u0947 \\u0938\\u093e\\u0932\\u0947 \\u0917\\u0930\\u0940\\u092c \\u0932\\u094b\\u0917 \\u092d\\u0940 \\u092c\\u0921\\u093c\\u0947 \\u0922\\u0940\\u0920 \\u0939\\u0948 \\u092e\\u0924\\u0932\\u092c \\u0915\\u0940 \\u0907\\u0924\\u0928\\u0947 \\u0938\\u093e\\u0932\\u094b\\u0902 \\u0938\\u0947 \\u0926\\u0947\\u0936 \\u0915\\u0947 \\u092c\\u0921\\u093c\\u0947 \\u092c\\u0921\\u093c\\u0947 \\u0935\\u094d\\u092f\\u0915\\u094d\\u0924\\u093f \\u0932\\u0917\\u0947 \\u0939\\u0948 \\u0905\\u092e\\u0940\\u0930 \\u0932\\u094b\\u0917 \\u0907\\u0924\\u0928\\u093e \\u0926\\u093e\\u0928 \\u0926\\u0947 \\u0930\\u0939\\u0947 \\u0939\\u0948 \\u092c\\u0921\\u093c\\u0947 \\u092c\\u0921\\u093c\\u0947 \\u0928\\u0947\\u0924\\u093e \\u0926\\u093f\\u0932\\u094d\\u0932\\u0940 \\u0938\\u0947 \\u0917\\u0930\\u0940\\u092c\\u0940 \\u0909\\u0928\\u094d\\u092e\\u0942\\u0932\\u0928 \\u0915\\u093e \\u092a\\u094d\\u0930\\u092f\\u093e\\u0938 \\u0915\\u0930 \\u0930\\u0939\\u0947 \\u0939\\u0948 \\u0932\\u0947\\u0915\\u093f\\u0928 \\u0928\\u0939\\u0940 \\u0907\\u0928\\u0915\\u0940 \\u0917\\u0930\\u0940\\u092c\\u0940 \\u0939\\u0948 \\u0915\\u0940 \\u0916\\u0924\\u094d\\u092e \\u0939\\u094b\\u0928\\u0947 \\u0915\\u093e \\u0928\\u093e\\u092e \\u0928\\u0939\\u0940 \\u0932\\u0947 \\u0930\\u0939\\u0940 \\u0939\\u0948\",\n          \"\\u0938\\u0941\\u0936\\u093e\\u0902\\u0924 \\u0915\\u0947 \\u092a\\u0930\\u093f\\u0935\\u093e\\u0930 \\u0915\\u0947 \\u0935\\u0915\\u0940\\u0932 # Exclusive \\u0938\\u0941\\u0936\\u093e\\u0902\\u0924 \\u0915\\u094b \\u091c\\u093e\\u0928\\u0947 \\u092c\\u093f\\u0928\\u093e \\u0921\\u094d\\u0930\\u0917\\u094d\\u0938 \\u0926\\u0940 \\u0917\\u0908 # Sushantsinghcase # JusticeForSushant @ U82311458\",\n          \"\\u092c\\u0947\\u091f\\u0947 \\u0905\\u092d\\u093f\\u091c\\u0940\\u0924 \\u092e\\u0941\\u0916\\u0930\\u094d\\u091c\\u0940 \\u0915\\u0947 \\u092a\\u093f\\u0924\\u093e \\u0915\\u094b \\u092e\\u0941\\u0916\\u093e\\u0917\\u094d\\u0928\\u093f \\u0926\\u0947\\u0928\\u0947 \\u0915\\u0947 \\u0938\\u093e\\u0925 \\u0939\\u0940 \\u092a\\u0942\\u0930\\u094d\\u0935 \\u0930\\u093e\\u0937\\u094d\\u091f\\u094d\\u0930\\u092a\\u0924\\u093f \\u092a\\u094d\\u0930\\u0923\\u0935 \\u092e\\u0941\\u0916\\u0930\\u094d\\u091c\\u0940 \\u092a\\u0902\\u091a\\u0924\\u0924\\u094d\\u0935 \\u092e\\u0947\\u0902 \\u0935\\u093f\\u0932\\u0940\\u0928 \\u0939\\u094b \\u0917\\u090f\"\n        ],\n        \"semantic_type\": \"\",\n        \"description\": \"\"\n      }\n    }\n  ]\n}"
            }
          },
          "metadata": {},
          "execution_count": 6
        }
      ]
    },
    {
      "cell_type": "code",
      "execution_count": null,
      "id": "a95367d9",
      "metadata": {
        "id": "a95367d9",
        "colab": {
          "base_uri": "https://localhost:8080/",
          "height": 206
        },
        "outputId": "8446e201-2f30-4c3e-9f97-e2eef3e4fcbf"
      },
      "outputs": [
        {
          "output_type": "execute_result",
          "data": {
            "text/plain": [
              "   claims                                        text_tokens\n",
              "0       1  listen people the vaccines work they work that...\n",
              "1       0  i ll take the covid vaccine in 5 years after a...\n",
              "2       0  @u72240666 hearing that the pope says refusing...\n",
              "3       1  trump has got the new russian vaccine and he c...\n",
              "4       1  @u41390182 @u31519664 gotta agree we already i..."
            ],
            "text/html": [
              "\n",
              "  <div id=\"df-2f0c3c29-1417-4cef-9c2d-0a2a4482d52a\" class=\"colab-df-container\">\n",
              "    <div>\n",
              "<style scoped>\n",
              "    .dataframe tbody tr th:only-of-type {\n",
              "        vertical-align: middle;\n",
              "    }\n",
              "\n",
              "    .dataframe tbody tr th {\n",
              "        vertical-align: top;\n",
              "    }\n",
              "\n",
              "    .dataframe thead th {\n",
              "        text-align: right;\n",
              "    }\n",
              "</style>\n",
              "<table border=\"1\" class=\"dataframe\">\n",
              "  <thead>\n",
              "    <tr style=\"text-align: right;\">\n",
              "      <th></th>\n",
              "      <th>claims</th>\n",
              "      <th>text_tokens</th>\n",
              "    </tr>\n",
              "  </thead>\n",
              "  <tbody>\n",
              "    <tr>\n",
              "      <th>0</th>\n",
              "      <td>1</td>\n",
              "      <td>listen people the vaccines work they work that...</td>\n",
              "    </tr>\n",
              "    <tr>\n",
              "      <th>1</th>\n",
              "      <td>0</td>\n",
              "      <td>i ll take the covid vaccine in 5 years after a...</td>\n",
              "    </tr>\n",
              "    <tr>\n",
              "      <th>2</th>\n",
              "      <td>0</td>\n",
              "      <td>@u72240666 hearing that the pope says refusing...</td>\n",
              "    </tr>\n",
              "    <tr>\n",
              "      <th>3</th>\n",
              "      <td>1</td>\n",
              "      <td>trump has got the new russian vaccine and he c...</td>\n",
              "    </tr>\n",
              "    <tr>\n",
              "      <th>4</th>\n",
              "      <td>1</td>\n",
              "      <td>@u41390182 @u31519664 gotta agree we already i...</td>\n",
              "    </tr>\n",
              "  </tbody>\n",
              "</table>\n",
              "</div>\n",
              "    <div class=\"colab-df-buttons\">\n",
              "\n",
              "  <div class=\"colab-df-container\">\n",
              "    <button class=\"colab-df-convert\" onclick=\"convertToInteractive('df-2f0c3c29-1417-4cef-9c2d-0a2a4482d52a')\"\n",
              "            title=\"Convert this dataframe to an interactive table.\"\n",
              "            style=\"display:none;\">\n",
              "\n",
              "  <svg xmlns=\"http://www.w3.org/2000/svg\" height=\"24px\" viewBox=\"0 -960 960 960\">\n",
              "    <path d=\"M120-120v-720h720v720H120Zm60-500h600v-160H180v160Zm220 220h160v-160H400v160Zm0 220h160v-160H400v160ZM180-400h160v-160H180v160Zm440 0h160v-160H620v160ZM180-180h160v-160H180v160Zm440 0h160v-160H620v160Z\"/>\n",
              "  </svg>\n",
              "    </button>\n",
              "\n",
              "  <style>\n",
              "    .colab-df-container {\n",
              "      display:flex;\n",
              "      gap: 12px;\n",
              "    }\n",
              "\n",
              "    .colab-df-convert {\n",
              "      background-color: #E8F0FE;\n",
              "      border: none;\n",
              "      border-radius: 50%;\n",
              "      cursor: pointer;\n",
              "      display: none;\n",
              "      fill: #1967D2;\n",
              "      height: 32px;\n",
              "      padding: 0 0 0 0;\n",
              "      width: 32px;\n",
              "    }\n",
              "\n",
              "    .colab-df-convert:hover {\n",
              "      background-color: #E2EBFA;\n",
              "      box-shadow: 0px 1px 2px rgba(60, 64, 67, 0.3), 0px 1px 3px 1px rgba(60, 64, 67, 0.15);\n",
              "      fill: #174EA6;\n",
              "    }\n",
              "\n",
              "    .colab-df-buttons div {\n",
              "      margin-bottom: 4px;\n",
              "    }\n",
              "\n",
              "    [theme=dark] .colab-df-convert {\n",
              "      background-color: #3B4455;\n",
              "      fill: #D2E3FC;\n",
              "    }\n",
              "\n",
              "    [theme=dark] .colab-df-convert:hover {\n",
              "      background-color: #434B5C;\n",
              "      box-shadow: 0px 1px 3px 1px rgba(0, 0, 0, 0.15);\n",
              "      filter: drop-shadow(0px 1px 2px rgba(0, 0, 0, 0.3));\n",
              "      fill: #FFFFFF;\n",
              "    }\n",
              "  </style>\n",
              "\n",
              "    <script>\n",
              "      const buttonEl =\n",
              "        document.querySelector('#df-2f0c3c29-1417-4cef-9c2d-0a2a4482d52a button.colab-df-convert');\n",
              "      buttonEl.style.display =\n",
              "        google.colab.kernel.accessAllowed ? 'block' : 'none';\n",
              "\n",
              "      async function convertToInteractive(key) {\n",
              "        const element = document.querySelector('#df-2f0c3c29-1417-4cef-9c2d-0a2a4482d52a');\n",
              "        const dataTable =\n",
              "          await google.colab.kernel.invokeFunction('convertToInteractive',\n",
              "                                                    [key], {});\n",
              "        if (!dataTable) return;\n",
              "\n",
              "        const docLinkHtml = 'Like what you see? Visit the ' +\n",
              "          '<a target=\"_blank\" href=https://colab.research.google.com/notebooks/data_table.ipynb>data table notebook</a>'\n",
              "          + ' to learn more about interactive tables.';\n",
              "        element.innerHTML = '';\n",
              "        dataTable['output_type'] = 'display_data';\n",
              "        await google.colab.output.renderOutput(dataTable, element);\n",
              "        const docLink = document.createElement('div');\n",
              "        docLink.innerHTML = docLinkHtml;\n",
              "        element.appendChild(docLink);\n",
              "      }\n",
              "    </script>\n",
              "  </div>\n",
              "\n",
              "\n",
              "<div id=\"df-7d5998b4-c8b6-40fc-86b5-d9d697018701\">\n",
              "  <button class=\"colab-df-quickchart\" onclick=\"quickchart('df-7d5998b4-c8b6-40fc-86b5-d9d697018701')\"\n",
              "            title=\"Suggest charts\"\n",
              "            style=\"display:none;\">\n",
              "\n",
              "<svg xmlns=\"http://www.w3.org/2000/svg\" height=\"24px\"viewBox=\"0 0 24 24\"\n",
              "     width=\"24px\">\n",
              "    <g>\n",
              "        <path d=\"M19 3H5c-1.1 0-2 .9-2 2v14c0 1.1.9 2 2 2h14c1.1 0 2-.9 2-2V5c0-1.1-.9-2-2-2zM9 17H7v-7h2v7zm4 0h-2V7h2v10zm4 0h-2v-4h2v4z\"/>\n",
              "    </g>\n",
              "</svg>\n",
              "  </button>\n",
              "\n",
              "<style>\n",
              "  .colab-df-quickchart {\n",
              "      --bg-color: #E8F0FE;\n",
              "      --fill-color: #1967D2;\n",
              "      --hover-bg-color: #E2EBFA;\n",
              "      --hover-fill-color: #174EA6;\n",
              "      --disabled-fill-color: #AAA;\n",
              "      --disabled-bg-color: #DDD;\n",
              "  }\n",
              "\n",
              "  [theme=dark] .colab-df-quickchart {\n",
              "      --bg-color: #3B4455;\n",
              "      --fill-color: #D2E3FC;\n",
              "      --hover-bg-color: #434B5C;\n",
              "      --hover-fill-color: #FFFFFF;\n",
              "      --disabled-bg-color: #3B4455;\n",
              "      --disabled-fill-color: #666;\n",
              "  }\n",
              "\n",
              "  .colab-df-quickchart {\n",
              "    background-color: var(--bg-color);\n",
              "    border: none;\n",
              "    border-radius: 50%;\n",
              "    cursor: pointer;\n",
              "    display: none;\n",
              "    fill: var(--fill-color);\n",
              "    height: 32px;\n",
              "    padding: 0;\n",
              "    width: 32px;\n",
              "  }\n",
              "\n",
              "  .colab-df-quickchart:hover {\n",
              "    background-color: var(--hover-bg-color);\n",
              "    box-shadow: 0 1px 2px rgba(60, 64, 67, 0.3), 0 1px 3px 1px rgba(60, 64, 67, 0.15);\n",
              "    fill: var(--button-hover-fill-color);\n",
              "  }\n",
              "\n",
              "  .colab-df-quickchart-complete:disabled,\n",
              "  .colab-df-quickchart-complete:disabled:hover {\n",
              "    background-color: var(--disabled-bg-color);\n",
              "    fill: var(--disabled-fill-color);\n",
              "    box-shadow: none;\n",
              "  }\n",
              "\n",
              "  .colab-df-spinner {\n",
              "    border: 2px solid var(--fill-color);\n",
              "    border-color: transparent;\n",
              "    border-bottom-color: var(--fill-color);\n",
              "    animation:\n",
              "      spin 1s steps(1) infinite;\n",
              "  }\n",
              "\n",
              "  @keyframes spin {\n",
              "    0% {\n",
              "      border-color: transparent;\n",
              "      border-bottom-color: var(--fill-color);\n",
              "      border-left-color: var(--fill-color);\n",
              "    }\n",
              "    20% {\n",
              "      border-color: transparent;\n",
              "      border-left-color: var(--fill-color);\n",
              "      border-top-color: var(--fill-color);\n",
              "    }\n",
              "    30% {\n",
              "      border-color: transparent;\n",
              "      border-left-color: var(--fill-color);\n",
              "      border-top-color: var(--fill-color);\n",
              "      border-right-color: var(--fill-color);\n",
              "    }\n",
              "    40% {\n",
              "      border-color: transparent;\n",
              "      border-right-color: var(--fill-color);\n",
              "      border-top-color: var(--fill-color);\n",
              "    }\n",
              "    60% {\n",
              "      border-color: transparent;\n",
              "      border-right-color: var(--fill-color);\n",
              "    }\n",
              "    80% {\n",
              "      border-color: transparent;\n",
              "      border-right-color: var(--fill-color);\n",
              "      border-bottom-color: var(--fill-color);\n",
              "    }\n",
              "    90% {\n",
              "      border-color: transparent;\n",
              "      border-bottom-color: var(--fill-color);\n",
              "    }\n",
              "  }\n",
              "</style>\n",
              "\n",
              "  <script>\n",
              "    async function quickchart(key) {\n",
              "      const quickchartButtonEl =\n",
              "        document.querySelector('#' + key + ' button');\n",
              "      quickchartButtonEl.disabled = true;  // To prevent multiple clicks.\n",
              "      quickchartButtonEl.classList.add('colab-df-spinner');\n",
              "      try {\n",
              "        const charts = await google.colab.kernel.invokeFunction(\n",
              "            'suggestCharts', [key], {});\n",
              "      } catch (error) {\n",
              "        console.error('Error during call to suggestCharts:', error);\n",
              "      }\n",
              "      quickchartButtonEl.classList.remove('colab-df-spinner');\n",
              "      quickchartButtonEl.classList.add('colab-df-quickchart-complete');\n",
              "    }\n",
              "    (() => {\n",
              "      let quickchartButtonEl =\n",
              "        document.querySelector('#df-7d5998b4-c8b6-40fc-86b5-d9d697018701 button');\n",
              "      quickchartButtonEl.style.display =\n",
              "        google.colab.kernel.accessAllowed ? 'block' : 'none';\n",
              "    })();\n",
              "  </script>\n",
              "</div>\n",
              "\n",
              "    </div>\n",
              "  </div>\n"
            ],
            "application/vnd.google.colaboratory.intrinsic+json": {
              "type": "dataframe",
              "variable_name": "val_data_en",
              "summary": "{\n  \"name\": \"val_data_en\",\n  \"rows\": 499,\n  \"fields\": [\n    {\n      \"column\": \"claims\",\n      \"properties\": {\n        \"dtype\": \"number\",\n        \"std\": 0,\n        \"min\": 0,\n        \"max\": 1,\n        \"num_unique_values\": 2,\n        \"samples\": [\n          0,\n          1\n        ],\n        \"semantic_type\": \"\",\n        \"description\": \"\"\n      }\n    },\n    {\n      \"column\": \"text_tokens\",\n      \"properties\": {\n        \"dtype\": \"string\",\n        \"num_unique_values\": 499,\n        \"samples\": [\n          \"@u72365777 ugh c19 vaccine is suspect i need more information and time to even consider taking it\",\n          \"@u36299602 @u29347232 @u51423267 @u51423267 should be the first to take a shot of her own vaccine lead by example and all that liklihood is that shell take the oxford vaccine and give her home brewed rubbish to us\"\n        ],\n        \"semantic_type\": \"\",\n        \"description\": \"\"\n      }\n    }\n  ]\n}"
            }
          },
          "metadata": {},
          "execution_count": 7
        }
      ],
      "source": [
        "val_data_en.head()"
      ]
    },
    {
      "cell_type": "code",
      "execution_count": null,
      "id": "c8bf377b",
      "metadata": {
        "id": "c8bf377b",
        "colab": {
          "base_uri": "https://localhost:8080/",
          "height": 206
        },
        "outputId": "2814c934-6e1b-40a1-822d-fc557055c7ab"
      },
      "outputs": [
        {
          "output_type": "execute_result",
          "data": {
            "text/plain": [
              "   claims                                        text_tokens     labels\n",
              "0       0  #vaers 17y #pfizer #covidvaccine #suicide atte...  not_claim\n",
              "1       1  weve truly come a long way from december and j...      claim\n",
              "2       1  fuck that its not faux outrage inject them wit...      claim\n",
              "3       1  @u55750420 which makes no sense the vaccine ca...      claim\n",
              "4       1  fact or fiction you decide the upcoming corona...      claim"
            ],
            "text/html": [
              "\n",
              "  <div id=\"df-f06f2d42-9502-478d-ae1c-ea5744c851f9\" class=\"colab-df-container\">\n",
              "    <div>\n",
              "<style scoped>\n",
              "    .dataframe tbody tr th:only-of-type {\n",
              "        vertical-align: middle;\n",
              "    }\n",
              "\n",
              "    .dataframe tbody tr th {\n",
              "        vertical-align: top;\n",
              "    }\n",
              "\n",
              "    .dataframe thead th {\n",
              "        text-align: right;\n",
              "    }\n",
              "</style>\n",
              "<table border=\"1\" class=\"dataframe\">\n",
              "  <thead>\n",
              "    <tr style=\"text-align: right;\">\n",
              "      <th></th>\n",
              "      <th>claims</th>\n",
              "      <th>text_tokens</th>\n",
              "      <th>labels</th>\n",
              "    </tr>\n",
              "  </thead>\n",
              "  <tbody>\n",
              "    <tr>\n",
              "      <th>0</th>\n",
              "      <td>0</td>\n",
              "      <td>#vaers 17y #pfizer #covidvaccine #suicide atte...</td>\n",
              "      <td>not_claim</td>\n",
              "    </tr>\n",
              "    <tr>\n",
              "      <th>1</th>\n",
              "      <td>1</td>\n",
              "      <td>weve truly come a long way from december and j...</td>\n",
              "      <td>claim</td>\n",
              "    </tr>\n",
              "    <tr>\n",
              "      <th>2</th>\n",
              "      <td>1</td>\n",
              "      <td>fuck that its not faux outrage inject them wit...</td>\n",
              "      <td>claim</td>\n",
              "    </tr>\n",
              "    <tr>\n",
              "      <th>3</th>\n",
              "      <td>1</td>\n",
              "      <td>@u55750420 which makes no sense the vaccine ca...</td>\n",
              "      <td>claim</td>\n",
              "    </tr>\n",
              "    <tr>\n",
              "      <th>4</th>\n",
              "      <td>1</td>\n",
              "      <td>fact or fiction you decide the upcoming corona...</td>\n",
              "      <td>claim</td>\n",
              "    </tr>\n",
              "  </tbody>\n",
              "</table>\n",
              "</div>\n",
              "    <div class=\"colab-df-buttons\">\n",
              "\n",
              "  <div class=\"colab-df-container\">\n",
              "    <button class=\"colab-df-convert\" onclick=\"convertToInteractive('df-f06f2d42-9502-478d-ae1c-ea5744c851f9')\"\n",
              "            title=\"Convert this dataframe to an interactive table.\"\n",
              "            style=\"display:none;\">\n",
              "\n",
              "  <svg xmlns=\"http://www.w3.org/2000/svg\" height=\"24px\" viewBox=\"0 -960 960 960\">\n",
              "    <path d=\"M120-120v-720h720v720H120Zm60-500h600v-160H180v160Zm220 220h160v-160H400v160Zm0 220h160v-160H400v160ZM180-400h160v-160H180v160Zm440 0h160v-160H620v160ZM180-180h160v-160H180v160Zm440 0h160v-160H620v160Z\"/>\n",
              "  </svg>\n",
              "    </button>\n",
              "\n",
              "  <style>\n",
              "    .colab-df-container {\n",
              "      display:flex;\n",
              "      gap: 12px;\n",
              "    }\n",
              "\n",
              "    .colab-df-convert {\n",
              "      background-color: #E8F0FE;\n",
              "      border: none;\n",
              "      border-radius: 50%;\n",
              "      cursor: pointer;\n",
              "      display: none;\n",
              "      fill: #1967D2;\n",
              "      height: 32px;\n",
              "      padding: 0 0 0 0;\n",
              "      width: 32px;\n",
              "    }\n",
              "\n",
              "    .colab-df-convert:hover {\n",
              "      background-color: #E2EBFA;\n",
              "      box-shadow: 0px 1px 2px rgba(60, 64, 67, 0.3), 0px 1px 3px 1px rgba(60, 64, 67, 0.15);\n",
              "      fill: #174EA6;\n",
              "    }\n",
              "\n",
              "    .colab-df-buttons div {\n",
              "      margin-bottom: 4px;\n",
              "    }\n",
              "\n",
              "    [theme=dark] .colab-df-convert {\n",
              "      background-color: #3B4455;\n",
              "      fill: #D2E3FC;\n",
              "    }\n",
              "\n",
              "    [theme=dark] .colab-df-convert:hover {\n",
              "      background-color: #434B5C;\n",
              "      box-shadow: 0px 1px 3px 1px rgba(0, 0, 0, 0.15);\n",
              "      filter: drop-shadow(0px 1px 2px rgba(0, 0, 0, 0.3));\n",
              "      fill: #FFFFFF;\n",
              "    }\n",
              "  </style>\n",
              "\n",
              "    <script>\n",
              "      const buttonEl =\n",
              "        document.querySelector('#df-f06f2d42-9502-478d-ae1c-ea5744c851f9 button.colab-df-convert');\n",
              "      buttonEl.style.display =\n",
              "        google.colab.kernel.accessAllowed ? 'block' : 'none';\n",
              "\n",
              "      async function convertToInteractive(key) {\n",
              "        const element = document.querySelector('#df-f06f2d42-9502-478d-ae1c-ea5744c851f9');\n",
              "        const dataTable =\n",
              "          await google.colab.kernel.invokeFunction('convertToInteractive',\n",
              "                                                    [key], {});\n",
              "        if (!dataTable) return;\n",
              "\n",
              "        const docLinkHtml = 'Like what you see? Visit the ' +\n",
              "          '<a target=\"_blank\" href=https://colab.research.google.com/notebooks/data_table.ipynb>data table notebook</a>'\n",
              "          + ' to learn more about interactive tables.';\n",
              "        element.innerHTML = '';\n",
              "        dataTable['output_type'] = 'display_data';\n",
              "        await google.colab.output.renderOutput(dataTable, element);\n",
              "        const docLink = document.createElement('div');\n",
              "        docLink.innerHTML = docLinkHtml;\n",
              "        element.appendChild(docLink);\n",
              "      }\n",
              "    </script>\n",
              "  </div>\n",
              "\n",
              "\n",
              "<div id=\"df-d50065bd-da50-4ce5-885b-a3a22d3953f3\">\n",
              "  <button class=\"colab-df-quickchart\" onclick=\"quickchart('df-d50065bd-da50-4ce5-885b-a3a22d3953f3')\"\n",
              "            title=\"Suggest charts\"\n",
              "            style=\"display:none;\">\n",
              "\n",
              "<svg xmlns=\"http://www.w3.org/2000/svg\" height=\"24px\"viewBox=\"0 0 24 24\"\n",
              "     width=\"24px\">\n",
              "    <g>\n",
              "        <path d=\"M19 3H5c-1.1 0-2 .9-2 2v14c0 1.1.9 2 2 2h14c1.1 0 2-.9 2-2V5c0-1.1-.9-2-2-2zM9 17H7v-7h2v7zm4 0h-2V7h2v10zm4 0h-2v-4h2v4z\"/>\n",
              "    </g>\n",
              "</svg>\n",
              "  </button>\n",
              "\n",
              "<style>\n",
              "  .colab-df-quickchart {\n",
              "      --bg-color: #E8F0FE;\n",
              "      --fill-color: #1967D2;\n",
              "      --hover-bg-color: #E2EBFA;\n",
              "      --hover-fill-color: #174EA6;\n",
              "      --disabled-fill-color: #AAA;\n",
              "      --disabled-bg-color: #DDD;\n",
              "  }\n",
              "\n",
              "  [theme=dark] .colab-df-quickchart {\n",
              "      --bg-color: #3B4455;\n",
              "      --fill-color: #D2E3FC;\n",
              "      --hover-bg-color: #434B5C;\n",
              "      --hover-fill-color: #FFFFFF;\n",
              "      --disabled-bg-color: #3B4455;\n",
              "      --disabled-fill-color: #666;\n",
              "  }\n",
              "\n",
              "  .colab-df-quickchart {\n",
              "    background-color: var(--bg-color);\n",
              "    border: none;\n",
              "    border-radius: 50%;\n",
              "    cursor: pointer;\n",
              "    display: none;\n",
              "    fill: var(--fill-color);\n",
              "    height: 32px;\n",
              "    padding: 0;\n",
              "    width: 32px;\n",
              "  }\n",
              "\n",
              "  .colab-df-quickchart:hover {\n",
              "    background-color: var(--hover-bg-color);\n",
              "    box-shadow: 0 1px 2px rgba(60, 64, 67, 0.3), 0 1px 3px 1px rgba(60, 64, 67, 0.15);\n",
              "    fill: var(--button-hover-fill-color);\n",
              "  }\n",
              "\n",
              "  .colab-df-quickchart-complete:disabled,\n",
              "  .colab-df-quickchart-complete:disabled:hover {\n",
              "    background-color: var(--disabled-bg-color);\n",
              "    fill: var(--disabled-fill-color);\n",
              "    box-shadow: none;\n",
              "  }\n",
              "\n",
              "  .colab-df-spinner {\n",
              "    border: 2px solid var(--fill-color);\n",
              "    border-color: transparent;\n",
              "    border-bottom-color: var(--fill-color);\n",
              "    animation:\n",
              "      spin 1s steps(1) infinite;\n",
              "  }\n",
              "\n",
              "  @keyframes spin {\n",
              "    0% {\n",
              "      border-color: transparent;\n",
              "      border-bottom-color: var(--fill-color);\n",
              "      border-left-color: var(--fill-color);\n",
              "    }\n",
              "    20% {\n",
              "      border-color: transparent;\n",
              "      border-left-color: var(--fill-color);\n",
              "      border-top-color: var(--fill-color);\n",
              "    }\n",
              "    30% {\n",
              "      border-color: transparent;\n",
              "      border-left-color: var(--fill-color);\n",
              "      border-top-color: var(--fill-color);\n",
              "      border-right-color: var(--fill-color);\n",
              "    }\n",
              "    40% {\n",
              "      border-color: transparent;\n",
              "      border-right-color: var(--fill-color);\n",
              "      border-top-color: var(--fill-color);\n",
              "    }\n",
              "    60% {\n",
              "      border-color: transparent;\n",
              "      border-right-color: var(--fill-color);\n",
              "    }\n",
              "    80% {\n",
              "      border-color: transparent;\n",
              "      border-right-color: var(--fill-color);\n",
              "      border-bottom-color: var(--fill-color);\n",
              "    }\n",
              "    90% {\n",
              "      border-color: transparent;\n",
              "      border-bottom-color: var(--fill-color);\n",
              "    }\n",
              "  }\n",
              "</style>\n",
              "\n",
              "  <script>\n",
              "    async function quickchart(key) {\n",
              "      const quickchartButtonEl =\n",
              "        document.querySelector('#' + key + ' button');\n",
              "      quickchartButtonEl.disabled = true;  // To prevent multiple clicks.\n",
              "      quickchartButtonEl.classList.add('colab-df-spinner');\n",
              "      try {\n",
              "        const charts = await google.colab.kernel.invokeFunction(\n",
              "            'suggestCharts', [key], {});\n",
              "      } catch (error) {\n",
              "        console.error('Error during call to suggestCharts:', error);\n",
              "      }\n",
              "      quickchartButtonEl.classList.remove('colab-df-spinner');\n",
              "      quickchartButtonEl.classList.add('colab-df-quickchart-complete');\n",
              "    }\n",
              "    (() => {\n",
              "      let quickchartButtonEl =\n",
              "        document.querySelector('#df-d50065bd-da50-4ce5-885b-a3a22d3953f3 button');\n",
              "      quickchartButtonEl.style.display =\n",
              "        google.colab.kernel.accessAllowed ? 'block' : 'none';\n",
              "    })();\n",
              "  </script>\n",
              "</div>\n",
              "\n",
              "    </div>\n",
              "  </div>\n"
            ],
            "application/vnd.google.colaboratory.intrinsic+json": {
              "type": "dataframe",
              "variable_name": "train_data",
              "summary": "{\n  \"name\": \"train_data\",\n  \"rows\": 12068,\n  \"fields\": [\n    {\n      \"column\": \"claims\",\n      \"properties\": {\n        \"dtype\": \"number\",\n        \"std\": 0,\n        \"min\": 0,\n        \"max\": 1,\n        \"num_unique_values\": 2,\n        \"samples\": [\n          1,\n          0\n        ],\n        \"semantic_type\": \"\",\n        \"description\": \"\"\n      }\n    },\n    {\n      \"column\": \"text_tokens\",\n      \"properties\": {\n        \"dtype\": \"string\",\n        \"num_unique_values\": 12067,\n        \"samples\": [\n          \"without efficacy data we should not be clearing any vaccine covaxin or anything else says @u57635700 in an interview for @u29445600\",\n          \"\\u092e\\u0928 \\u0915\\u0940 \\u092c\\u093e\\u0924 \\u0930\\u0947\\u0921\\u093f\\u092f\\u094b \\u0910\\u0921\\u094d\\u0930\\u0947\\u0938 \\u092e\\u0947\\u0902 \\u0915\\u0939\\u093e \\u0915\\u0940 \\u090f\\u0915 \\u0915\\u0930\\u094b\\u0921\\u093c \\u0915\\u094b\\u0935\\u093f\\u0921 19 \\u092e\\u0930\\u0940\\u091c\\u093c\\u094b\\u0902 \\u0915\\u093e \\u092e\\u0941\\u092b\\u093c\\u094d\\u0924 \\u0907\\u0932\\u093e\\u091c \\u0915\\u093f\\u092f\\u093e \\u091c\\u093e \\u091a\\u0942\\u0915\\u093e \\u0939\\u0948\"\n        ],\n        \"semantic_type\": \"\",\n        \"description\": \"\"\n      }\n    },\n    {\n      \"column\": \"labels\",\n      \"properties\": {\n        \"dtype\": \"category\",\n        \"num_unique_values\": 2,\n        \"samples\": [\n          \"claim\",\n          \"not_claim\"\n        ],\n        \"semantic_type\": \"\",\n        \"description\": \"\"\n      }\n    }\n  ]\n}"
            }
          },
          "metadata": {},
          "execution_count": 8
        }
      ],
      "source": [
        "train_data.head()"
      ]
    },
    {
      "cell_type": "code",
      "execution_count": null,
      "id": "147ee566",
      "metadata": {
        "id": "147ee566",
        "colab": {
          "base_uri": "https://localhost:8080/"
        },
        "outputId": "327f963b-5688-4a3b-95ac-66a3668df4c2"
      },
      "outputs": [
        {
          "output_type": "stream",
          "name": "stdout",
          "text": [
            "<class 'pandas.core.frame.DataFrame'>\n",
            "RangeIndex: 12068 entries, 0 to 12067\n",
            "Data columns (total 3 columns):\n",
            " #   Column       Non-Null Count  Dtype \n",
            "---  ------       --------------  ----- \n",
            " 0   claims       12068 non-null  int64 \n",
            " 1   text_tokens  12068 non-null  object\n",
            " 2   labels       12068 non-null  object\n",
            "dtypes: int64(1), object(2)\n",
            "memory usage: 283.0+ KB\n"
          ]
        }
      ],
      "source": [
        "train_data.info()"
      ]
    },
    {
      "cell_type": "code",
      "execution_count": null,
      "id": "2fd53783",
      "metadata": {
        "id": "2fd53783",
        "colab": {
          "base_uri": "https://localhost:8080/"
        },
        "outputId": "9756163b-b9c3-48dc-9914-29192a972869"
      },
      "outputs": [
        {
          "output_type": "stream",
          "name": "stdout",
          "text": [
            "<class 'pandas.core.frame.DataFrame'>\n",
            "RangeIndex: 499 entries, 0 to 498\n",
            "Data columns (total 2 columns):\n",
            " #   Column       Non-Null Count  Dtype \n",
            "---  ------       --------------  ----- \n",
            " 0   claims       499 non-null    int64 \n",
            " 1   text_tokens  499 non-null    object\n",
            "dtypes: int64(1), object(1)\n",
            "memory usage: 7.9+ KB\n"
          ]
        }
      ],
      "source": [
        "val_data_en.info()"
      ]
    },
    {
      "cell_type": "markdown",
      "id": "cd7769b6",
      "metadata": {
        "id": "cd7769b6"
      },
      "source": [
        "### Feature Extraction"
      ]
    },
    {
      "cell_type": "code",
      "execution_count": null,
      "id": "72ba3f03",
      "metadata": {
        "id": "72ba3f03",
        "colab": {
          "base_uri": "https://localhost:8080/"
        },
        "outputId": "b5b1b450-c398-426d-8ffb-56c22cf21049"
      },
      "outputs": [
        {
          "output_type": "stream",
          "name": "stdout",
          "text": [
            "----Training Data------\n",
            "(12068, 24811)\n",
            "(12068,)\n",
            "\n",
            "----English Validation Data------\n",
            "(499, 24811)\n",
            "(499,)\n",
            "\n",
            "----Hindi Validation Data------\n",
            "(500, 24811)\n",
            "(500,)\n",
            "\n",
            "----English test Data------\n",
            "(1500, 1)\n",
            "\n",
            "----Hindi test Data------\n",
            "(1500, 1)\n"
          ]
        }
      ],
      "source": [
        "from sklearn.feature_extraction.text import CountVectorizer, TfidfTransformer\n",
        "from sklearn.pipeline import Pipeline\n",
        "from sklearn.model_selection import train_test_split\n",
        "\n",
        "# Define pipeline\n",
        "pipeline = Pipeline([\n",
        "    ('vect', CountVectorizer()),\n",
        "    ('tfidf', TfidfTransformer(use_idf=True))\n",
        "])\n",
        "\n",
        "# Apply pipeline on training data\n",
        "X = pipeline.fit_transform(train_data['text_tokens'])\n",
        "y = train_data['claims']\n",
        "\n",
        "# Apply same pipeline on validation data\n",
        "#X_val = pipeline.transform(val_data['text_tokens'])\n",
        "#y_val = val_data['claims']\n",
        "\n",
        "\n",
        "# Apply same pipeline on English validation data\n",
        "X_val_en = pipeline.transform(val_data_en['text_tokens'])\n",
        "y_val_en = val_data_en['claims']\n",
        "\n",
        "\n",
        "# Apply same pipeline on Hindi validation data\n",
        "X_val_hi = pipeline.transform(val_data_hi['text_tokens'])\n",
        "y_val_hi = val_data_hi['claims']\n",
        "\n",
        "# Apply same pipeline on English Test data\n",
        "X_test_en = pipeline.transform(test_data_en['text_tokens'])\n",
        "#y_test_en = val_data_en['claims']\n",
        "\n",
        "# Apply same pipeline on Hindi Test data\n",
        "X_test_hi = pipeline.transform(test_data_hi['text_tokens'])\n",
        "#y_test_en = val_data_en['claims']\n",
        "\n",
        "\n",
        "print(\"----Training Data------\")\n",
        "print(X.shape)\n",
        "print(y.shape)\n",
        "\n",
        "print(\"\\n----English Validation Data------\")\n",
        "print(X_val_en.shape)\n",
        "print(y_val_en.shape)\n",
        "\n",
        "print(\"\\n----Hindi Validation Data------\")\n",
        "print(X_val_hi.shape)\n",
        "print(y_val_hi.shape)\n",
        "\n",
        "print(\"\\n----English test Data------\")\n",
        "print(test_data_en.shape)\n",
        "#print(y_val_en.shape)\n",
        "\n",
        "print(\"\\n----Hindi test Data------\")\n",
        "print(test_data_hi.shape)\n",
        "#print(y_val_en.shape)"
      ]
    },
    {
      "cell_type": "code",
      "execution_count": null,
      "id": "178dda4d",
      "metadata": {
        "id": "178dda4d"
      },
      "outputs": [],
      "source": [
        "# Splitting the dataset into the Training set and testing Set\n",
        "X_train, X_test, y_train, y_test = train_test_split(X, y, test_size=0.10, random_state=42)"
      ]
    },
    {
      "cell_type": "code",
      "execution_count": null,
      "id": "49440d84",
      "metadata": {
        "id": "49440d84",
        "colab": {
          "base_uri": "https://localhost:8080/"
        },
        "outputId": "925bf21d-b50c-48f0-f6af-158f07d59a4d"
      },
      "outputs": [
        {
          "output_type": "execute_result",
          "data": {
            "text/plain": [
              "claims\n",
              "1    8830\n",
              "0    2031\n",
              "Name: count, dtype: int64"
            ]
          },
          "metadata": {},
          "execution_count": 13
        }
      ],
      "source": [
        "y_train.value_counts()"
      ]
    },
    {
      "cell_type": "markdown",
      "id": "882887fb",
      "metadata": {
        "id": "882887fb"
      },
      "source": [
        "__After checking the training set, there are imbalance of data and it may cause a bias in training the model. Oversampling using `SMOTE` will be used to balance the train dataset.__"
      ]
    },
    {
      "cell_type": "markdown",
      "id": "6fa52aaf",
      "metadata": {
        "id": "6fa52aaf"
      },
      "source": [
        "### SMOTE"
      ]
    },
    {
      "cell_type": "code",
      "execution_count": null,
      "id": "3e09cce2",
      "metadata": {
        "id": "3e09cce2",
        "colab": {
          "base_uri": "https://localhost:8080/"
        },
        "outputId": "567ce7da-4153-4894-9b23-b22886e5cab6"
      },
      "outputs": [
        {
          "output_type": "stream",
          "name": "stdout",
          "text": [
            "Initial class distribution: Counter({1: 8830, 0: 2031})\n"
          ]
        }
      ],
      "source": [
        "from imblearn.over_sampling import SMOTE\n",
        "from collections import Counter\n",
        "\n",
        "# Check the initial class distribution\n",
        "print(\"Initial class distribution:\", Counter(y_train))"
      ]
    },
    {
      "cell_type": "code",
      "execution_count": null,
      "id": "5094694f",
      "metadata": {
        "id": "5094694f"
      },
      "outputs": [],
      "source": [
        "# Initialize SMOTE with a strategy to balance all classes equally\n",
        "smote = SMOTE(sampling_strategy='auto', random_state=42)\n",
        "\n",
        "\n",
        "# Apply SMOTE\n",
        "X_train_res, y_train_res = smote.fit_resample(X_train, y_train)"
      ]
    },
    {
      "cell_type": "code",
      "execution_count": null,
      "id": "22d6547f",
      "metadata": {
        "id": "22d6547f",
        "colab": {
          "base_uri": "https://localhost:8080/"
        },
        "outputId": "aaa661f0-398a-484f-bd46-7fbb817f574d"
      },
      "outputs": [
        {
          "output_type": "stream",
          "name": "stdout",
          "text": [
            "Resampled class distribution: Counter({1: 8830, 0: 8830})\n"
          ]
        }
      ],
      "source": [
        "# Check the class distribution after SMOTE\n",
        "print(\"Resampled class distribution:\", Counter(y_train_res))"
      ]
    },
    {
      "cell_type": "markdown",
      "id": "e1c35ad1",
      "metadata": {
        "id": "e1c35ad1"
      },
      "source": [
        "__Now, the training set is balanced and ready to be feed into the ML models.__"
      ]
    },
    {
      "cell_type": "markdown",
      "id": "4c339825",
      "metadata": {
        "id": "4c339825"
      },
      "source": [
        "### Model Training & Development"
      ]
    },
    {
      "cell_type": "markdown",
      "id": "bcd819ff",
      "metadata": {
        "id": "bcd819ff"
      },
      "source": [
        "### Decision Trees Classifier"
      ]
    },
    {
      "cell_type": "code",
      "execution_count": null,
      "id": "59caf5cc",
      "metadata": {
        "id": "59caf5cc"
      },
      "outputs": [],
      "source": [
        "from sklearn.metrics import jaccard_score, f1_score\n",
        "from sklearn.svm import SVC"
      ]
    },
    {
      "cell_type": "code",
      "execution_count": null,
      "id": "5a567552",
      "metadata": {
        "id": "5a567552"
      },
      "outputs": [],
      "source": [
        "# Decision Trees\n",
        "\n",
        "from sklearn.tree import DecisionTreeClassifier\n",
        "import sklearn.tree as tree\n",
        "\n",
        "Tree_clf = DecisionTreeClassifier(criterion=\"entropy\", max_depth=42, random_state=42)  #80\n",
        "Tree_clf.fit(X_train, y_train)\n",
        "\n",
        "tree_pred = Tree_clf.predict(X_test_en)\n",
        "tree_pred_hi = Tree_clf.predict(X_test_hi)\n",
        "\n",
        "test_data_en[\"target\"] = Tree_clf.predict(X_test_en)\n",
        "test_data_hi[\"target\"] = Tree_clf.predict(X_test_hi)"
      ]
    },
    {
      "cell_type": "code",
      "execution_count": null,
      "id": "84d75962",
      "metadata": {
        "id": "84d75962",
        "colab": {
          "base_uri": "https://localhost:8080/"
        },
        "outputId": "2a434ed4-94e2-4d57-c181-bf789a6d3a0c"
      },
      "outputs": [
        {
          "output_type": "stream",
          "name": "stdout",
          "text": [
            "Classification Report for Decision Trees using English Test dataset:\n",
            "               precision    recall  f1-score   support\n",
            "\n",
            "   not_claim       1.00      1.00      1.00       244\n",
            "       claim       1.00      1.00      1.00      1256\n",
            "\n",
            "    accuracy                           1.00      1500\n",
            "   macro avg       1.00      1.00      1.00      1500\n",
            "weighted avg       1.00      1.00      1.00      1500\n",
            "\n"
          ]
        }
      ],
      "source": [
        "claims = ['not_claim', 'claim']\n",
        "\n",
        "print('Classification Report for Decision Trees using English Test dataset:\\n',classification_report(test_data_en.target, tree_pred, target_names=claims))"
      ]
    },
    {
      "cell_type": "code",
      "execution_count": null,
      "id": "760e8c02",
      "metadata": {
        "id": "760e8c02",
        "colab": {
          "base_uri": "https://localhost:8080/"
        },
        "outputId": "1fcf619b-b19f-4e0b-bfd2-4a7bdd28ac37"
      },
      "outputs": [
        {
          "output_type": "stream",
          "name": "stdout",
          "text": [
            "Classification Report for Decision Trees using Hindi Test dataset:\n",
            "               precision    recall  f1-score   support\n",
            "\n",
            "   not_claim       1.00      1.00      1.00       159\n",
            "       claim       1.00      1.00      1.00      1341\n",
            "\n",
            "    accuracy                           1.00      1500\n",
            "   macro avg       1.00      1.00      1.00      1500\n",
            "weighted avg       1.00      1.00      1.00      1500\n",
            "\n"
          ]
        }
      ],
      "source": [
        "print('Classification Report for Decision Trees using Hindi Test dataset:\\n',classification_report(test_data_hi.target, tree_pred_hi, target_names=claims))"
      ]
    },
    {
      "cell_type": "code",
      "execution_count": null,
      "id": "e66d77b8",
      "metadata": {
        "id": "e66d77b8",
        "colab": {
          "base_uri": "https://localhost:8080/"
        },
        "outputId": "77c2583c-1d36-48b7-bdce-6ba14b5d4e45"
      },
      "outputs": [
        {
          "output_type": "stream",
          "name": "stdout",
          "text": [
            "Average Jaccard Similarity Score of Decision Trees using English Test data: 0.8373333333333334\n",
            "Average Macro-F1 Score of Decision Trees using English Test data: 1.0\n"
          ]
        }
      ],
      "source": [
        "from sklearn.metrics import f1_score, jaccard_score\n",
        "import numpy as np\n",
        "\n",
        "# Step 1: Make predictions on the validation set\n",
        "predictions = (Tree_clf.predict(X_test_en) > 0.5).astype(int)\n",
        "\n",
        "# Initialize lists to hold individual scores\n",
        "jaccard_scores = []\n",
        "macro_f1_scores = []\n",
        "\n",
        "# Iterate over each post\n",
        "for i in range(len(test_data_en.target)):\n",
        "    # Ensure y_val[i] and predictions[i] are arrays\n",
        "    y_true_post = np.array(test_data_en.target[i]).reshape(1, -1)\n",
        "    y_pred_post = np.array(predictions[i]).reshape(1, -1)\n",
        "\n",
        "    # Calculate Jaccard similarity score for each post\n",
        "    jaccard = jaccard_score(y_true_post[0], y_pred_post[0], zero_division=0)\n",
        "    jaccard_scores.append(jaccard)\n",
        "\n",
        "    # Calculate Macro-F1 score for each post\n",
        "    macro_f1 = f1_score(y_true_post[0], y_pred_post[0], average='macro', zero_division=0)\n",
        "    macro_f1_scores.append(macro_f1)\n",
        "\n",
        "# Calculate the average of the scores\n",
        "average_jaccard = np.mean(jaccard_scores)\n",
        "average_macro_f1 = np.mean(macro_f1_scores)\n",
        "\n",
        "print(\"Average Jaccard Similarity Score of Decision Trees using English Test data:\", average_jaccard)\n",
        "print(\"Average Macro-F1 Score of Decision Trees using English Test data:\", average_macro_f1)"
      ]
    },
    {
      "cell_type": "code",
      "execution_count": null,
      "id": "4a3e8222",
      "metadata": {
        "id": "4a3e8222",
        "colab": {
          "base_uri": "https://localhost:8080/"
        },
        "outputId": "e751e6d2-24c3-47a7-ea4f-9fc47c3671f5"
      },
      "outputs": [
        {
          "output_type": "stream",
          "name": "stdout",
          "text": [
            "Average Jaccard Similarity Score of Decision Trees using Hindi Test data: 0.894\n",
            "Average Macro-F1 Score of Decision Trees using Hindi Test data: 1.0\n"
          ]
        }
      ],
      "source": [
        "from sklearn.metrics import f1_score, jaccard_score\n",
        "import numpy as np\n",
        "\n",
        "# Step 1: Make predictions on the validation set\n",
        "predictions = (Tree_clf.predict(X_test_hi) > 0.5).astype(int)\n",
        "\n",
        "# Initialize lists to hold individual scores\n",
        "jaccard_scores = []\n",
        "macro_f1_scores = []\n",
        "\n",
        "# Iterate over each post\n",
        "for i in range(len(test_data_hi.target)):\n",
        "    # Ensure y_val[i] and predictions[i] are arrays\n",
        "    y_true_post = np.array(test_data_hi.target[i]).reshape(1, -1)\n",
        "    y_pred_post = np.array(predictions[i]).reshape(1, -1)\n",
        "\n",
        "    # Calculate Jaccard similarity score for each post\n",
        "    jaccard = jaccard_score(y_true_post[0], y_pred_post[0], zero_division=0)\n",
        "    jaccard_scores.append(jaccard)\n",
        "\n",
        "    # Calculate Macro-F1 score for each post\n",
        "    macro_f1 = f1_score(y_true_post[0], y_pred_post[0], average='macro', zero_division=0)\n",
        "    macro_f1_scores.append(macro_f1)\n",
        "\n",
        "# Calculate the average of the scores\n",
        "average_jaccard = np.mean(jaccard_scores)\n",
        "average_macro_f1 = np.mean(macro_f1_scores)\n",
        "\n",
        "print(\"Average Jaccard Similarity Score of Decision Trees using Hindi Test data:\", average_jaccard)\n",
        "print(\"Average Macro-F1 Score of Decision Trees using Hindi Test data:\", average_macro_f1)"
      ]
    },
    {
      "cell_type": "markdown",
      "id": "7c46cb6d",
      "metadata": {
        "id": "7c46cb6d"
      },
      "source": [
        "### Logistic Regression Model"
      ]
    },
    {
      "cell_type": "code",
      "execution_count": null,
      "id": "5fc0c70d",
      "metadata": {
        "id": "5fc0c70d"
      },
      "outputs": [],
      "source": [
        "#Logistic Regression Model\n",
        "\n",
        "from sklearn.linear_model import LogisticRegression\n",
        "from sklearn.metrics import accuracy_score\n",
        "\n",
        "# train a Logistic Regression Model\n",
        "LR_clf = LogisticRegression(max_iter = 1000) #83\n",
        "LR_clf.fit(X_train, y_train)\n",
        "\n",
        "# evaluate the classifier on the test set\n",
        "LR_pred = LR_clf.predict(X_test_en)\n",
        "LR_pred_hi = LR_clf.predict(X_test_hi)\n",
        "\n",
        "test_data_en[\"target1\"] = LR_clf.predict(X_test_en)\n",
        "test_data_hi[\"target1\"] = LR_clf.predict(X_test_hi)"
      ]
    },
    {
      "cell_type": "code",
      "execution_count": null,
      "id": "2d7086ac",
      "metadata": {
        "id": "2d7086ac",
        "colab": {
          "base_uri": "https://localhost:8080/"
        },
        "outputId": "dede5586-7aaa-4d54-d469-5bfd3ef8053a"
      },
      "outputs": [
        {
          "output_type": "stream",
          "name": "stdout",
          "text": [
            "Classification Report for Logistic Regression using English Test dataset :\n",
            "               precision    recall  f1-score   support\n",
            "\n",
            "   not_claim       1.00      1.00      1.00        52\n",
            "       claim       1.00      1.00      1.00      1448\n",
            "\n",
            "    accuracy                           1.00      1500\n",
            "   macro avg       1.00      1.00      1.00      1500\n",
            "weighted avg       1.00      1.00      1.00      1500\n",
            "\n"
          ]
        }
      ],
      "source": [
        "print('Classification Report for Logistic Regression using English Test dataset :\\n',classification_report(test_data_en.target1, LR_pred, target_names=claims))"
      ]
    },
    {
      "cell_type": "code",
      "execution_count": null,
      "id": "9c4ddb8c",
      "metadata": {
        "id": "9c4ddb8c",
        "colab": {
          "base_uri": "https://localhost:8080/"
        },
        "outputId": "a401bfcf-1028-46a8-8103-ee6727903018"
      },
      "outputs": [
        {
          "output_type": "stream",
          "name": "stdout",
          "text": [
            "Classification Report for Logistic Regression using Hindi Test dataset :\n",
            "               precision    recall  f1-score   support\n",
            "\n",
            "   not_claim       1.00      1.00      1.00        72\n",
            "       claim       1.00      1.00      1.00      1428\n",
            "\n",
            "    accuracy                           1.00      1500\n",
            "   macro avg       1.00      1.00      1.00      1500\n",
            "weighted avg       1.00      1.00      1.00      1500\n",
            "\n"
          ]
        }
      ],
      "source": [
        "print('Classification Report for Logistic Regression using Hindi Test dataset :\\n',classification_report(test_data_hi.target1, LR_pred_hi, target_names=claims))"
      ]
    },
    {
      "cell_type": "code",
      "execution_count": null,
      "id": "7694e1b2",
      "metadata": {
        "id": "7694e1b2",
        "colab": {
          "base_uri": "https://localhost:8080/"
        },
        "outputId": "95d27364-35d6-4b1f-9490-c9ab0f136b52"
      },
      "outputs": [
        {
          "output_type": "stream",
          "name": "stdout",
          "text": [
            "Average Jaccard Similarity Score of Logistic Regression using English Test data: 0.9653333333333334\n",
            "Average Macro-F1 Score of Logistic Regression using English Test data: 1.0\n"
          ]
        }
      ],
      "source": [
        "from sklearn.metrics import f1_score, jaccard_score\n",
        "import numpy as np\n",
        "\n",
        "# Step 1: Make predictions on the validation set\n",
        "predictions = (LR_clf.predict(X_test_en) > 0.5).astype(int)\n",
        "\n",
        "# Initialize lists to hold individual scores\n",
        "jaccard_scores = []\n",
        "macro_f1_scores = []\n",
        "\n",
        "# Iterate over each post\n",
        "for i in range(len(test_data_en.target1)):\n",
        "    # Ensure y_val[i] and predictions[i] are arrays\n",
        "    y_true_post = np.array(test_data_en.target1[i]).reshape(1, -1)\n",
        "    y_pred_post = np.array(predictions[i]).reshape(1, -1)\n",
        "\n",
        "    # Calculate Jaccard similarity score for each post\n",
        "    jaccard = jaccard_score(y_true_post[0], y_pred_post[0], zero_division=0)\n",
        "    jaccard_scores.append(jaccard)\n",
        "\n",
        "    # Calculate Macro-F1 score for each post\n",
        "    macro_f1 = f1_score(y_true_post[0], y_pred_post[0], average='macro', zero_division=0)\n",
        "    macro_f1_scores.append(macro_f1)\n",
        "\n",
        "# Calculate the average of the scores\n",
        "average_jaccard = np.mean(jaccard_scores)\n",
        "average_macro_f1 = np.mean(macro_f1_scores)\n",
        "\n",
        "print(\"Average Jaccard Similarity Score of Logistic Regression using English Test data:\", average_jaccard)\n",
        "print(\"Average Macro-F1 Score of Logistic Regression using English Test data:\", average_macro_f1)"
      ]
    },
    {
      "cell_type": "code",
      "execution_count": null,
      "id": "7286c0c3",
      "metadata": {
        "id": "7286c0c3",
        "colab": {
          "base_uri": "https://localhost:8080/"
        },
        "outputId": "f39509e9-0528-4b5e-9907-972af7598c17"
      },
      "outputs": [
        {
          "output_type": "stream",
          "name": "stdout",
          "text": [
            "Average Jaccard Similarity Score of Logistic Regression using Hindi test data: 0.952\n",
            "Average Macro-F1 Score of Logistic Regression using Hindi test data: 1.0\n"
          ]
        }
      ],
      "source": [
        "from sklearn.metrics import f1_score, jaccard_score\n",
        "import numpy as np\n",
        "\n",
        "# Step 1: Make predictions on the validation set\n",
        "predictions = (LR_clf.predict(X_test_hi) > 0.5).astype(int)\n",
        "\n",
        "# Initialize lists to hold individual scores\n",
        "jaccard_scores = []\n",
        "macro_f1_scores = []\n",
        "\n",
        "# Iterate over each post\n",
        "for i in range(len(test_data_hi.target1)):\n",
        "    # Ensure y_val[i] and predictions[i] are arrays\n",
        "    y_true_post = np.array(test_data_hi.target1[i]).reshape(1, -1)\n",
        "    y_pred_post = np.array(predictions[i]).reshape(1, -1)\n",
        "\n",
        "    # Calculate Jaccard similarity score for each post\n",
        "    jaccard = jaccard_score(y_true_post[0], y_pred_post[0], zero_division=0)\n",
        "    jaccard_scores.append(jaccard)\n",
        "\n",
        "    # Calculate Macro-F1 score for each post\n",
        "    macro_f1 = f1_score(y_true_post[0], y_pred_post[0], average='macro', zero_division=0)\n",
        "    macro_f1_scores.append(macro_f1)\n",
        "\n",
        "# Calculate the average of the scores\n",
        "average_jaccard = np.mean(jaccard_scores)\n",
        "average_macro_f1 = np.mean(macro_f1_scores)\n",
        "\n",
        "print(\"Average Jaccard Similarity Score of Logistic Regression using Hindi test data:\", average_jaccard)\n",
        "print(\"Average Macro-F1 Score of Logistic Regression using Hindi test data:\", average_macro_f1)"
      ]
    },
    {
      "cell_type": "markdown",
      "id": "6ab9a027",
      "metadata": {
        "id": "6ab9a027"
      },
      "source": [
        "### SVM (Support Vector Machines)"
      ]
    },
    {
      "cell_type": "code",
      "execution_count": null,
      "id": "772be905",
      "metadata": {
        "id": "772be905"
      },
      "outputs": [],
      "source": [
        "# SVM (Support Vector Machines)\n",
        "\n",
        "from sklearn import svm\n",
        "\n",
        "SV_clf = svm.SVC(kernel='rbf')  #83\n",
        "SV_clf.fit(X_train, y_train)\n",
        "\n",
        "svm_pred = SV_clf.predict(X_test_en)\n",
        "svm_pred_hi = SV_clf.predict(X_test_hi)\n",
        "\n",
        "\n",
        "test_data_en[\"target2\"] = SV_clf.predict(X_test_en)\n",
        "test_data_hi[\"target2\"] = SV_clf.predict(X_test_hi)"
      ]
    },
    {
      "cell_type": "code",
      "execution_count": null,
      "id": "430025b5",
      "metadata": {
        "id": "430025b5",
        "colab": {
          "base_uri": "https://localhost:8080/"
        },
        "outputId": "052e5853-18d0-4a0c-a673-bfa278f42c8f"
      },
      "outputs": [
        {
          "output_type": "stream",
          "name": "stdout",
          "text": [
            "Classification Report for Support Vector Machines using English test dataset:\n",
            "               precision    recall  f1-score   support\n",
            "\n",
            "   not_claim       1.00      1.00      1.00        35\n",
            "       claim       1.00      1.00      1.00      1465\n",
            "\n",
            "    accuracy                           1.00      1500\n",
            "   macro avg       1.00      1.00      1.00      1500\n",
            "weighted avg       1.00      1.00      1.00      1500\n",
            "\n"
          ]
        }
      ],
      "source": [
        "print('Classification Report for Support Vector Machines using English test dataset:\\n',classification_report(test_data_en.target2, svm_pred, target_names=claims))"
      ]
    },
    {
      "cell_type": "code",
      "execution_count": null,
      "id": "33864c8f",
      "metadata": {
        "id": "33864c8f",
        "colab": {
          "base_uri": "https://localhost:8080/"
        },
        "outputId": "c2871b8a-71e0-4241-8283-02d272bb6b61"
      },
      "outputs": [
        {
          "output_type": "stream",
          "name": "stdout",
          "text": [
            "Classification Report for Support Vector Machines using Hindi test dataset:\n",
            "               precision    recall  f1-score   support\n",
            "\n",
            "   not_claim       1.00      1.00      1.00        58\n",
            "       claim       1.00      1.00      1.00      1442\n",
            "\n",
            "    accuracy                           1.00      1500\n",
            "   macro avg       1.00      1.00      1.00      1500\n",
            "weighted avg       1.00      1.00      1.00      1500\n",
            "\n"
          ]
        }
      ],
      "source": [
        "print('Classification Report for Support Vector Machines using Hindi test dataset:\\n',classification_report(test_data_hi.target2, svm_pred_hi, target_names=claims))"
      ]
    },
    {
      "cell_type": "code",
      "execution_count": null,
      "id": "3b4797f2",
      "metadata": {
        "id": "3b4797f2",
        "colab": {
          "base_uri": "https://localhost:8080/"
        },
        "outputId": "9870d2df-f0cd-49f4-9e95-a20de6efdf81"
      },
      "outputs": [
        {
          "output_type": "stream",
          "name": "stdout",
          "text": [
            "Average Jaccard Similarity Score of SVM using English test data: 0.9766666666666667\n",
            "Average Macro-F1 Score of SVM using English test data: 1.0\n"
          ]
        }
      ],
      "source": [
        "from sklearn.metrics import f1_score, jaccard_score\n",
        "import numpy as np\n",
        "\n",
        "# Step 1: Make predictions on the validation set\n",
        "predictions = (SV_clf.predict(X_test_en) > 0.5).astype(int)\n",
        "\n",
        "# Initialize lists to hold individual scores\n",
        "jaccard_scores = []\n",
        "macro_f1_scores = []\n",
        "\n",
        "# Iterate over each post\n",
        "for i in range(len(test_data_en.target2)):\n",
        "    # Ensure y_val[i] and predictions[i] are arrays\n",
        "    y_true_post = np.array(test_data_en.target2[i]).reshape(1, -1)\n",
        "    y_pred_post = np.array(predictions[i]).reshape(1, -1)\n",
        "\n",
        "    # Calculate Jaccard similarity score for each post\n",
        "    jaccard = jaccard_score(y_true_post[0], y_pred_post[0], zero_division=0)\n",
        "    jaccard_scores.append(jaccard)\n",
        "\n",
        "    # Calculate Macro-F1 score for each post\n",
        "    macro_f1 = f1_score(y_true_post[0], y_pred_post[0], average='macro', zero_division=0)\n",
        "    macro_f1_scores.append(macro_f1)\n",
        "\n",
        "# Calculate the average of the scores\n",
        "average_jaccard = np.mean(jaccard_scores)\n",
        "average_macro_f1 = np.mean(macro_f1_scores)\n",
        "\n",
        "print(\"Average Jaccard Similarity Score of SVM using English test data:\", average_jaccard)\n",
        "print(\"Average Macro-F1 Score of SVM using English test data:\", average_macro_f1)"
      ]
    },
    {
      "cell_type": "code",
      "execution_count": null,
      "id": "82366a84",
      "metadata": {
        "id": "82366a84",
        "colab": {
          "base_uri": "https://localhost:8080/"
        },
        "outputId": "01130e63-c8bd-46c6-bd51-70a23d6af932"
      },
      "outputs": [
        {
          "output_type": "stream",
          "name": "stdout",
          "text": [
            "Average Jaccard Similarity Score of SVM using Hindi test data: 0.9613333333333334\n",
            "Average Macro-F1 Score of SVM using Hindi test data: 1.0\n"
          ]
        }
      ],
      "source": [
        "from sklearn.metrics import f1_score, jaccard_score\n",
        "import numpy as np\n",
        "\n",
        "# Step 1: Make predictions on the validation set\n",
        "predictions = (SV_clf.predict(X_test_hi) > 0.5).astype(int)\n",
        "\n",
        "# Initialize lists to hold individual scores\n",
        "jaccard_scores = []\n",
        "macro_f1_scores = []\n",
        "\n",
        "# Iterate over each post\n",
        "for i in range(len(test_data_hi.target2)):\n",
        "    # Ensure y_val[i] and predictions[i] are arrays\n",
        "    y_true_post = np.array(test_data_hi.target2[i]).reshape(1, -1)\n",
        "    y_pred_post = np.array(predictions[i]).reshape(1, -1)\n",
        "\n",
        "    # Calculate Jaccard similarity score for each post\n",
        "    jaccard = jaccard_score(y_true_post[0], y_pred_post[0], zero_division=0)\n",
        "    jaccard_scores.append(jaccard)\n",
        "\n",
        "    # Calculate Macro-F1 score for each post\n",
        "    macro_f1 = f1_score(y_true_post[0], y_pred_post[0], average='macro', zero_division=0)\n",
        "    macro_f1_scores.append(macro_f1)\n",
        "\n",
        "# Calculate the average of the scores\n",
        "average_jaccard = np.mean(jaccard_scores)\n",
        "average_macro_f1 = np.mean(macro_f1_scores)\n",
        "\n",
        "print(\"Average Jaccard Similarity Score of SVM using Hindi test data:\", average_jaccard)\n",
        "print(\"Average Macro-F1 Score of SVM using Hindi test data:\", average_macro_f1)"
      ]
    },
    {
      "cell_type": "markdown",
      "id": "7dcc2a7f",
      "metadata": {
        "id": "7dcc2a7f"
      },
      "source": [
        "### RandomForest Classifier"
      ]
    },
    {
      "cell_type": "code",
      "execution_count": null,
      "id": "634f3cbd",
      "metadata": {
        "id": "634f3cbd"
      },
      "outputs": [],
      "source": [
        "from sklearn.metrics import classification_report\n",
        "from sklearn.ensemble import RandomForestClassifier\n",
        "\n",
        "rf_clf = RandomForestClassifier()\n",
        "rf_clf.fit(X_train, y_train)\n",
        "\n",
        "rf_pred = rf_clf.predict(X_test_en)\n",
        "rf_pred_hi = rf_clf.predict(X_test_hi)\n",
        "\n",
        "test_data_en[\"target3\"] = rf_clf.predict(X_test_en)\n",
        "test_data_hi[\"target3\"] = rf_clf.predict(X_test_hi)"
      ]
    },
    {
      "cell_type": "code",
      "execution_count": null,
      "id": "c3339406",
      "metadata": {
        "id": "c3339406",
        "colab": {
          "base_uri": "https://localhost:8080/"
        },
        "outputId": "c8babc57-17e0-4058-8ec3-c712d11eacc3"
      },
      "outputs": [
        {
          "output_type": "stream",
          "name": "stdout",
          "text": [
            "Classification Report for Random Forest using English test dataset:\n",
            "               precision    recall  f1-score   support\n",
            "\n",
            "   not_claim       1.00      1.00      1.00        45\n",
            "       claim       1.00      1.00      1.00      1455\n",
            "\n",
            "    accuracy                           1.00      1500\n",
            "   macro avg       1.00      1.00      1.00      1500\n",
            "weighted avg       1.00      1.00      1.00      1500\n",
            "\n"
          ]
        }
      ],
      "source": [
        "print('Classification Report for Random Forest using English test dataset:\\n',classification_report(test_data_en.target3, rf_pred, target_names=claims))"
      ]
    },
    {
      "cell_type": "code",
      "execution_count": null,
      "id": "6b0fc530",
      "metadata": {
        "id": "6b0fc530",
        "colab": {
          "base_uri": "https://localhost:8080/"
        },
        "outputId": "62cb386c-03d7-4cd0-85e8-1b1571c21834"
      },
      "outputs": [
        {
          "output_type": "stream",
          "name": "stdout",
          "text": [
            "Classification Report for Random Forest using Hindi test dataset:\n",
            "               precision    recall  f1-score   support\n",
            "\n",
            "   not_claim       1.00      1.00      1.00       118\n",
            "       claim       1.00      1.00      1.00      1382\n",
            "\n",
            "    accuracy                           1.00      1500\n",
            "   macro avg       1.00      1.00      1.00      1500\n",
            "weighted avg       1.00      1.00      1.00      1500\n",
            "\n"
          ]
        }
      ],
      "source": [
        "print('Classification Report for Random Forest using Hindi test dataset:\\n',classification_report(test_data_hi.target3, rf_pred_hi, target_names=claims))"
      ]
    },
    {
      "cell_type": "code",
      "execution_count": null,
      "id": "2c68210d",
      "metadata": {
        "id": "2c68210d",
        "colab": {
          "base_uri": "https://localhost:8080/"
        },
        "outputId": "a6dc2be0-2c5e-4f50-9326-b36cccc53389"
      },
      "outputs": [
        {
          "output_type": "stream",
          "name": "stdout",
          "text": [
            "Average Jaccard Similarity Score of Random Forest using English test data: 0.97\n",
            "Average Macro-F1 Score of Random Forest using English test data: 1.0\n"
          ]
        }
      ],
      "source": [
        "from sklearn.metrics import f1_score, jaccard_score\n",
        "import numpy as np\n",
        "\n",
        "# Step 1: Make predictions on the validation set\n",
        "predictions = (rf_clf.predict(X_test_en) > 0.5).astype(int)\n",
        "\n",
        "# Initialize lists to hold individual scores\n",
        "jaccard_scores = []\n",
        "macro_f1_scores = []\n",
        "\n",
        "# Iterate over each post\n",
        "for i in range(len(test_data_en.target3)):\n",
        "    # Ensure y_val[i] and predictions[i] are arrays\n",
        "    y_true_post = np.array(test_data_en.target3[i]).reshape(1, -1)\n",
        "    y_pred_post = np.array(predictions[i]).reshape(1, -1)\n",
        "\n",
        "    # Calculate Jaccard similarity score for each post\n",
        "    jaccard = jaccard_score(y_true_post[0], y_pred_post[0], zero_division=0)\n",
        "    jaccard_scores.append(jaccard)\n",
        "\n",
        "    # Calculate Macro-F1 score for each post\n",
        "    macro_f1 = f1_score(y_true_post[0], y_pred_post[0], average='macro', zero_division=0)\n",
        "    macro_f1_scores.append(macro_f1)\n",
        "\n",
        "# Calculate the average of the scores\n",
        "average_jaccard = np.mean(jaccard_scores)\n",
        "average_macro_f1 = np.mean(macro_f1_scores)\n",
        "\n",
        "print(\"Average Jaccard Similarity Score of Random Forest using English test data:\", average_jaccard)\n",
        "print(\"Average Macro-F1 Score of Random Forest using English test data:\", average_macro_f1)"
      ]
    },
    {
      "cell_type": "code",
      "execution_count": null,
      "id": "cb696110",
      "metadata": {
        "id": "cb696110",
        "colab": {
          "base_uri": "https://localhost:8080/"
        },
        "outputId": "8f5366d6-dccd-4e61-a1ed-162381f5fcd7"
      },
      "outputs": [
        {
          "output_type": "stream",
          "name": "stdout",
          "text": [
            "Average Jaccard Similarity Score of Random Forest using Hindi test data: 0.9213333333333333\n",
            "Average Macro-F1 Score of Random Forest using Hindi test data: 1.0\n"
          ]
        }
      ],
      "source": [
        "from sklearn.metrics import f1_score, jaccard_score\n",
        "import numpy as np\n",
        "\n",
        "# Step 1: Make predictions on the validation set\n",
        "predictions = (rf_clf.predict(X_test_hi) > 0.5).astype(int)\n",
        "\n",
        "# Initialize lists to hold individual scores\n",
        "jaccard_scores = []\n",
        "macro_f1_scores = []\n",
        "\n",
        "# Iterate over each post\n",
        "for i in range(len(test_data_hi.target3)):\n",
        "    # Ensure y_val[i] and predictions[i] are arrays\n",
        "    y_true_post = np.array(test_data_hi.target3[i]).reshape(1, -1)\n",
        "    y_pred_post = np.array(predictions[i]).reshape(1, -1)\n",
        "\n",
        "    # Calculate Jaccard similarity score for each post\n",
        "    jaccard = jaccard_score(y_true_post[0], y_pred_post[0], zero_division=0)\n",
        "    jaccard_scores.append(jaccard)\n",
        "\n",
        "    # Calculate Macro-F1 score for each post\n",
        "    macro_f1 = f1_score(y_true_post[0], y_pred_post[0], average='macro', zero_division=0)\n",
        "    macro_f1_scores.append(macro_f1)\n",
        "\n",
        "# Calculate the average of the scores\n",
        "average_jaccard = np.mean(jaccard_scores)\n",
        "average_macro_f1 = np.mean(macro_f1_scores)\n",
        "\n",
        "print(\"Average Jaccard Similarity Score of Random Forest using Hindi test data:\", average_jaccard)\n",
        "print(\"Average Macro-F1 Score of Random Forest using Hindi test data:\", average_macro_f1)"
      ]
    },
    {
      "cell_type": "markdown",
      "id": "b52d57fc",
      "metadata": {
        "id": "b52d57fc"
      },
      "source": [
        "### XGBoost Classifier algorithm"
      ]
    },
    {
      "cell_type": "code",
      "execution_count": null,
      "id": "86615084",
      "metadata": {
        "id": "86615084"
      },
      "outputs": [],
      "source": [
        "from xgboost import XGBClassifier\n",
        "\n",
        "xgboost = XGBClassifier()\n",
        "xgboost.fit(X_train, y_train)\n",
        "\n",
        "xgboost_pred = xgboost.predict(X_test_en)\n",
        "xgboost_pred_hi = xgboost.predict(X_test_hi)\n",
        "\n",
        "test_data_en[\"target5\"] = xgboost.predict(X_test_en)\n",
        "test_data_hi[\"target5\"] = xgboost.predict(X_test_hi)"
      ]
    },
    {
      "cell_type": "code",
      "execution_count": null,
      "id": "aa3b186b",
      "metadata": {
        "id": "aa3b186b",
        "colab": {
          "base_uri": "https://localhost:8080/"
        },
        "outputId": "027678c8-a743-4a6e-e7de-d4296c0bfa86"
      },
      "outputs": [
        {
          "output_type": "stream",
          "name": "stdout",
          "text": [
            "Classification Report for XGBoost Classifier using English test dataset:\n",
            "               precision    recall  f1-score   support\n",
            "\n",
            "   not_claim       1.00      1.00      1.00       110\n",
            "       claim       1.00      1.00      1.00      1390\n",
            "\n",
            "    accuracy                           1.00      1500\n",
            "   macro avg       1.00      1.00      1.00      1500\n",
            "weighted avg       1.00      1.00      1.00      1500\n",
            "\n"
          ]
        }
      ],
      "source": [
        "print('Classification Report for XGBoost Classifier using English test dataset:\\n',classification_report(test_data_en.target5, xgboost_pred, target_names=claims))"
      ]
    },
    {
      "cell_type": "code",
      "execution_count": null,
      "id": "74d27247",
      "metadata": {
        "id": "74d27247",
        "colab": {
          "base_uri": "https://localhost:8080/"
        },
        "outputId": "bdd99e44-2dcc-416b-fa4e-0fcdc7982620"
      },
      "outputs": [
        {
          "output_type": "stream",
          "name": "stdout",
          "text": [
            "Classification Report for XGBoost Classifier using Hindi test dataset:\n",
            "               precision    recall  f1-score   support\n",
            "\n",
            "   not_claim       1.00      1.00      1.00       100\n",
            "       claim       1.00      1.00      1.00      1400\n",
            "\n",
            "    accuracy                           1.00      1500\n",
            "   macro avg       1.00      1.00      1.00      1500\n",
            "weighted avg       1.00      1.00      1.00      1500\n",
            "\n"
          ]
        }
      ],
      "source": [
        "print('Classification Report for XGBoost Classifier using Hindi test dataset:\\n',classification_report(test_data_hi.target5, xgboost_pred_hi, target_names=claims))"
      ]
    },
    {
      "cell_type": "code",
      "execution_count": null,
      "id": "27c7b309",
      "metadata": {
        "id": "27c7b309",
        "colab": {
          "base_uri": "https://localhost:8080/"
        },
        "outputId": "b916c5e6-e049-43ab-ef51-a263bab3bd14"
      },
      "outputs": [
        {
          "output_type": "stream",
          "name": "stdout",
          "text": [
            "Average Jaccard Similarity Score of XGBoost using English test data: 0.9266666666666666\n",
            "Average Macro-F1 Score of XGBoost using English test data: 1.0\n"
          ]
        }
      ],
      "source": [
        "from sklearn.metrics import f1_score, jaccard_score\n",
        "import numpy as np\n",
        "\n",
        "# Step 1: Make predictions on the validation set\n",
        "predictions = (xgboost.predict(X_test_en) > 0.5).astype(int)\n",
        "\n",
        "# Initialize lists to hold individual scores\n",
        "jaccard_scores = []\n",
        "macro_f1_scores = []\n",
        "\n",
        "# Iterate over each post\n",
        "for i in range(len(test_data_en.target5)):\n",
        "    # Ensure y_val[i] and predictions[i] are arrays\n",
        "    y_true_post = np.array(test_data_en.target5[i]).reshape(1, -1)\n",
        "    y_pred_post = np.array(predictions[i]).reshape(1, -1)\n",
        "\n",
        "    # Calculate Jaccard similarity score for each post\n",
        "    jaccard = jaccard_score(y_true_post[0], y_pred_post[0], zero_division=0)\n",
        "    jaccard_scores.append(jaccard)\n",
        "\n",
        "    # Calculate Macro-F1 score for each post\n",
        "    macro_f1 = f1_score(y_true_post[0], y_pred_post[0], average='macro', zero_division=0)\n",
        "    macro_f1_scores.append(macro_f1)\n",
        "\n",
        "# Calculate the average of the scores\n",
        "average_jaccard = np.mean(jaccard_scores)\n",
        "average_macro_f1 = np.mean(macro_f1_scores)\n",
        "\n",
        "print(\"Average Jaccard Similarity Score of XGBoost using English test data:\", average_jaccard)\n",
        "print(\"Average Macro-F1 Score of XGBoost using English test data:\", average_macro_f1)"
      ]
    },
    {
      "cell_type": "code",
      "execution_count": null,
      "id": "bb2275d1",
      "metadata": {
        "id": "bb2275d1",
        "colab": {
          "base_uri": "https://localhost:8080/"
        },
        "outputId": "3a182666-fe44-4223-c529-c3924b30db97"
      },
      "outputs": [
        {
          "output_type": "stream",
          "name": "stdout",
          "text": [
            "Average Jaccard Similarity Score of XGBoost using Hindi test data: 0.9333333333333333\n",
            "Average Macro-F1 Score of XGBoost using Hindi test data: 1.0\n"
          ]
        }
      ],
      "source": [
        "from sklearn.metrics import f1_score, jaccard_score\n",
        "import numpy as np\n",
        "\n",
        "# Step 1: Make predictions on the validation set\n",
        "predictions = (xgboost.predict(X_test_hi) > 0.5).astype(int)\n",
        "\n",
        "# Initialize lists to hold individual scores\n",
        "jaccard_scores = []\n",
        "macro_f1_scores = []\n",
        "\n",
        "# Iterate over each post\n",
        "for i in range(len(test_data_hi.target5)):\n",
        "    # Ensure y_val[i] and predictions[i] are arrays\n",
        "    y_true_post = np.array(test_data_hi.target5[i]).reshape(1, -1)\n",
        "    y_pred_post = np.array(predictions[i]).reshape(1, -1)\n",
        "\n",
        "    # Calculate Jaccard similarity score for each post\n",
        "    jaccard = jaccard_score(y_true_post[0], y_pred_post[0], zero_division=0)\n",
        "    jaccard_scores.append(jaccard)\n",
        "\n",
        "    # Calculate Macro-F1 score for each post\n",
        "    macro_f1 = f1_score(y_true_post[0], y_pred_post[0], average='macro', zero_division=0)\n",
        "    macro_f1_scores.append(macro_f1)\n",
        "\n",
        "# Calculate the average of the scores\n",
        "average_jaccard = np.mean(jaccard_scores)\n",
        "average_macro_f1 = np.mean(macro_f1_scores)\n",
        "\n",
        "print(\"Average Jaccard Similarity Score of XGBoost using Hindi test data:\", average_jaccard)\n",
        "print(\"Average Macro-F1 Score of XGBoost using Hindi test data:\", average_macro_f1)"
      ]
    },
    {
      "cell_type": "code",
      "source": [],
      "metadata": {
        "id": "Aay-4hUru0LL"
      },
      "id": "Aay-4hUru0LL",
      "execution_count": null,
      "outputs": []
    }
  ],
  "metadata": {
    "accelerator": "GPU",
    "colab": {
      "gpuType": "T4",
      "provenance": []
    },
    "kaggle": {
      "accelerator": "gpu",
      "dataSources": [
        {
          "datasetId": 5144997,
          "sourceId": 8599645,
          "sourceType": "datasetVersion"
        }
      ],
      "dockerImageVersionId": 30716,
      "isGpuEnabled": true,
      "isInternetEnabled": true,
      "language": "python",
      "sourceType": "notebook"
    },
    "kernelspec": {
      "display_name": "Python 3",
      "name": "python3"
    },
    "language_info": {
      "codemirror_mode": {
        "name": "ipython",
        "version": 3
      },
      "file_extension": ".py",
      "mimetype": "text/x-python",
      "name": "python",
      "nbconvert_exporter": "python",
      "pygments_lexer": "ipython3",
      "version": "3.10.13"
    },
    "papermill": {
      "default_parameters": {},
      "duration": 99.127485,
      "end_time": "2024-06-04T04:46:53.568421",
      "environment_variables": {},
      "exception": null,
      "input_path": "__notebook__.ipynb",
      "output_path": "__notebook__.ipynb",
      "parameters": {},
      "start_time": "2024-06-04T04:45:14.440936",
      "version": "2.5.0"
    }
  },
  "nbformat": 4,
  "nbformat_minor": 5
}