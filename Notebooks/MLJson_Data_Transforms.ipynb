{
  "nbformat": 4,
  "nbformat_minor": 0,
  "metadata": {
    "colab": {
      "provenance": []
    },
    "kernelspec": {
      "name": "python3",
      "display_name": "Python 3"
    },
    "language_info": {
      "name": "python"
    }
  },
  "cells": [
    {
      "cell_type": "markdown",
      "source": [
        "# Multi-Lingual Json Data Transformations using Pandas"
      ],
      "metadata": {
        "id": "PeTfnq2HOYib"
      }
    },
    {
      "cell_type": "markdown",
      "source": [
        "### Training Data"
      ],
      "metadata": {
        "id": "amXKkJavOs8s"
      }
    },
    {
      "cell_type": "code",
      "execution_count": null,
      "metadata": {
        "id": "8ofXreRFK3Jc"
      },
      "outputs": [],
      "source": [
        "import json\n",
        "\n",
        "# Load the JSON dataset\n",
        "with open('/content/train-en.json', 'r') as file:\n",
        "    dataset = json.load(file)\n",
        "\n",
        "# Encode the Claims column\n",
        "for entry in dataset:\n",
        "    if entry['claims']:\n",
        "        entry['claims_encoded'] = 1\n",
        "    else:\n",
        "        entry['claims_encoded'] = 0\n",
        "\n",
        "# Save the updated dataset\n",
        "with open('train-en_encoded.json', 'w') as file:\n",
        "    json.dump(dataset, file, indent=4)\n"
      ]
    },
    {
      "cell_type": "code",
      "source": [
        "import json\n",
        "\n",
        "# Load the JSON dataset\n",
        "with open('/content/train-hi.json', 'r') as file:\n",
        "    dataset = json.load(file)\n",
        "\n",
        "# Encode the Claims column\n",
        "for entry in dataset:\n",
        "    if entry['claims']:\n",
        "        entry['claims_encoded'] = 1\n",
        "    else:\n",
        "        entry['claims_encoded'] = 0\n",
        "\n",
        "# Save the updated dataset\n",
        "with open('train-hi_encoded.json', 'w') as file:\n",
        "    json.dump(dataset, file, indent=4)\n"
      ],
      "metadata": {
        "id": "mbKwRTTdMHDh"
      },
      "execution_count": null,
      "outputs": []
    },
    {
      "cell_type": "markdown",
      "source": [
        "### Validation Data"
      ],
      "metadata": {
        "id": "CdDRXlLDO0pC"
      }
    },
    {
      "cell_type": "code",
      "source": [
        "import json\n",
        "\n",
        "# Load the JSON dataset\n",
        "with open('/content/val-en.json', 'r') as file:\n",
        "    dataset = json.load(file)\n",
        "\n",
        "# Encode the Claims column\n",
        "for entry in dataset:\n",
        "    if entry['claims']:\n",
        "        entry['claims_encoded'] = 1\n",
        "    else:\n",
        "        entry['claims_encoded'] = 0\n",
        "\n",
        "# Save the updated dataset\n",
        "with open('val-en_encoded.json', 'w') as file:\n",
        "    json.dump(dataset, file, indent=4)\n"
      ],
      "metadata": {
        "id": "HQmbKMuXN-VE"
      },
      "execution_count": null,
      "outputs": []
    },
    {
      "cell_type": "markdown",
      "source": [
        "#### Next Steps to explore the datasets and conduct data preprocessing for Multilingual Data"
      ],
      "metadata": {
        "id": "lxFdghm6P4lK"
      }
    },
    {
      "cell_type": "code",
      "source": [
        "import json\n",
        "\n",
        "# Load the JSON dataset\n",
        "with open('/content/val-hi.json', 'r') as file:\n",
        "    dataset = json.load(file)\n",
        "\n",
        "# Encode the Claims column\n",
        "for entry in dataset:\n",
        "    if entry['claims']:\n",
        "        entry['claims_encoded'] = 1\n",
        "    else:\n",
        "        entry['claims_encoded'] = 0\n",
        "\n",
        "# Save the updated dataset\n",
        "with open('val-hi_encoded.json', 'w') as file:\n",
        "    json.dump(dataset, file, indent=4)\n"
      ],
      "metadata": {
        "id": "-UtSgIv1Pf8f"
      },
      "execution_count": null,
      "outputs": []
    },
    {
      "cell_type": "code",
      "source": [],
      "metadata": {
        "id": "SyGb96KqPHja"
      },
      "execution_count": null,
      "outputs": []
    }
  ]
}